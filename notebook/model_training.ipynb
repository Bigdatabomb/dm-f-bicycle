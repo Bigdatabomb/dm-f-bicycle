{
 "cells": [
  {
   "cell_type": "code",
   "execution_count": 2,
   "id": "fead6629",
   "metadata": {},
   "outputs": [],
   "source": [
    "import pandas as pd\n",
    "from sklearn.model_selection import train_test_split\n",
    "import os\n",
    "import numpy as np"
   ]
  },
  {
   "cell_type": "code",
   "execution_count": 3,
   "id": "e8a6ec41",
   "metadata": {},
   "outputs": [],
   "source": [
    "file_location = os.getcwd()"
   ]
  },
  {
   "cell_type": "code",
   "execution_count": 4,
   "id": "bc3ab1f9",
   "metadata": {},
   "outputs": [],
   "source": [
    "Jan_path = os.path.join(file_location, 'bicycle_rental_n_return', 'mainJan.csv')\n",
    "Feb_path = os.path.join(file_location, 'bicycle_rental_n_return', 'mainFeb.csv')\n",
    "Mar_path = os.path.join(file_location, 'bicycle_rental_n_return', 'mainMar.csv')\n",
    "Apr_path = os.path.join(file_location, 'bicycle_rental_n_return', 'mainApr.csv')\n",
    "May_path = os.path.join(file_location, 'bicycle_rental_n_return', 'mainMay.csv')\n",
    "Jun_path = os.path.join(file_location, 'bicycle_rental_n_return', 'mainJun.csv')\n",
    "Jul_path = os.path.join(file_location, 'bicycle_rental_n_return', 'mainJul.csv')\n",
    "Aug_path = os.path.join(file_location, 'bicycle_rental_n_return', 'mainAug.csv')\n",
    "Sep_path = os.path.join(file_location, 'bicycle_rental_n_return', 'mainSep.csv')\n",
    "Oct_path = os.path.join(file_location, 'bicycle_rental_n_return', 'mainOct.csv')\n",
    "Nov_path = os.path.join(file_location, 'bicycle_rental_n_return', 'mainNov.csv')\n",
    "Dec_path = os.path.join(file_location, 'bicycle_rental_n_return', 'mainDec.csv')"
   ]
  },
  {
   "cell_type": "code",
   "execution_count": 5,
   "id": "1195c7ff",
   "metadata": {},
   "outputs": [],
   "source": [
    "mainJan = pd.read_csv(Jan_path, encoding='cp949')\n",
    "mainFeb = pd.read_csv(Feb_path, encoding='cp949')\n",
    "mainMar = pd.read_csv(Mar_path, encoding='cp949')\n",
    "mainApr = pd.read_csv(Apr_path, encoding='cp949')\n",
    "mainMay = pd.read_csv(May_path, encoding='cp949')\n",
    "mainJun = pd.read_csv(Jun_path, encoding='cp949')\n",
    "mainJul = pd.read_csv(Jul_path, encoding='cp949')\n",
    "mainAug = pd.read_csv(Aug_path, encoding='cp949')\n",
    "mainSep = pd.read_csv(Sep_path, encoding='cp949')\n",
    "mainOct = pd.read_csv(Oct_path, encoding='cp949')\n",
    "mainNov = pd.read_csv(Nov_path, encoding='cp949')\n",
    "mainDec = pd.read_csv(Dec_path, encoding='cp949')"
   ]
  },
  {
   "cell_type": "code",
   "execution_count": 6,
   "id": "a2bdbc51",
   "metadata": {},
   "outputs": [],
   "source": [
    "month = [mainJan, mainFeb, mainMar, mainApr, mainMay,\n",
    "        mainJun, mainJul, mainAug, mainSep, mainOct,\n",
    "        mainNov, mainDec]\n",
    "\n",
    "for i in month:\n",
    "    i['가변수'] = i['총_사용인원'].notnull().astype(int)"
   ]
  },
  {
   "cell_type": "code",
   "execution_count": 7,
   "id": "9cc0b734",
   "metadata": {},
   "outputs": [],
   "source": [
    "sum_data = month[0]\n",
    "\n",
    "for i in month[1:] :\n",
    "    sum_data['총_사용인원'] += i['총_사용인원']\n",
    "    sum_data['평균_사용인원'] += i['평균_사용인원']\n",
    "    sum_data['가변수'] += i['가변수']"
   ]
  },
  {
   "cell_type": "code",
   "execution_count": 8,
   "id": "aee918f9",
   "metadata": {},
   "outputs": [],
   "source": [
    "sum_data['평균_사용인원'] = sum_data['평균_사용인원']/sum_data['가변수']"
   ]
  },
  {
   "cell_type": "code",
   "execution_count": 9,
   "id": "ade66ad1",
   "metadata": {},
   "outputs": [],
   "source": [
    "total_data = pd.read_csv('data_preprocessing_file.csv', encoding='cp949')\n",
    "total_data = total_data.merge(sum_data[['대여소_ID', '총_사용인원', '평균_사용인원']], on='대여소_ID', how='left')"
   ]
  },
  {
   "cell_type": "code",
   "execution_count": 10,
   "id": "bf6bd5ad",
   "metadata": {},
   "outputs": [],
   "source": [
    "from sklearn.preprocessing import LabelEncoder\n",
    "\n",
    "le = LabelEncoder()\n",
    "total_data['동'] = le.fit_transform(total_data['동'])"
   ]
  },
  {
   "cell_type": "code",
   "execution_count": 11,
   "id": "6eb5e61c",
   "metadata": {},
   "outputs": [],
   "source": [
    "total_data = total_data.dropna(subset=['총_사용인원'])"
   ]
  },
  {
   "cell_type": "code",
   "execution_count": 12,
   "id": "8c77e603",
   "metadata": {},
   "outputs": [],
   "source": [
    "total_data.to_csv('result_data_file.csv', index=False, encoding='cp949')"
   ]
  },
  {
   "cell_type": "code",
   "execution_count": 13,
   "id": "fc0147c1",
   "metadata": {},
   "outputs": [],
   "source": [
    "X = total_data[['500m내_대여소가중치','500m내_버스정류소가중치',\n",
    "                '500m내_지하철역가중치','500m내_교차로가중치',\n",
    "                '500m내_자전거보관소가중치','500m내_자전거도로가중치',\n",
    "                '500m내_고등학교가중치','500m내_대학교가중치',\n",
    "                '500m내_사고건수_가중치','동','500m내_관광지_여부', \n",
    "                '500m내_휴게음식점가중치']]\n",
    "Y = total_data['평균_사용인원'] "
   ]
  },
  {
   "cell_type": "code",
   "execution_count": 14,
   "id": "147a1838",
   "metadata": {},
   "outputs": [],
   "source": [
    "X_train, X_test, Y_train, Y_test = train_test_split(X, Y, test_size=0.2, random_state=300)"
   ]
  },
  {
   "cell_type": "markdown",
   "id": "18075ce3",
   "metadata": {},
   "source": [
    "선형 회귀 분석"
   ]
  },
  {
   "cell_type": "code",
   "execution_count": 15,
   "id": "8d049d2a",
   "metadata": {},
   "outputs": [],
   "source": [
    "from sklearn.linear_model import LinearRegression\n",
    "from sklearn.metrics import mean_squared_error, mean_absolute_error, r2_score"
   ]
  },
  {
   "cell_type": "code",
   "execution_count": 16,
   "id": "5a7dcf6b",
   "metadata": {},
   "outputs": [
    {
     "data": {
      "text/plain": [
       "LinearRegression()"
      ]
     },
     "execution_count": 16,
     "metadata": {},
     "output_type": "execute_result"
    }
   ],
   "source": [
    "linear_model = LinearRegression()\n",
    "linear_model.fit(X_train, Y_train)"
   ]
  },
  {
   "cell_type": "code",
   "execution_count": 17,
   "id": "47523f16",
   "metadata": {},
   "outputs": [],
   "source": [
    "linear_pred = linear_model.predict(X_test)"
   ]
  },
  {
   "cell_type": "code",
   "execution_count": 18,
   "id": "4f95a694",
   "metadata": {},
   "outputs": [],
   "source": [
    "linear_spuared = mean_squared_error(Y_test, linear_pred)\n",
    "linear_absolute = mean_absolute_error(Y_test, linear_pred)\n",
    "linear_r2_score = r2_score(Y_test, linear_pred)"
   ]
  },
  {
   "cell_type": "markdown",
   "id": "1630da4d",
   "metadata": {},
   "source": [
    "랜덤 포레스트"
   ]
  },
  {
   "cell_type": "code",
   "execution_count": 19,
   "id": "153c81d6",
   "metadata": {},
   "outputs": [],
   "source": [
    "from sklearn.ensemble import RandomForestRegressor"
   ]
  },
  {
   "cell_type": "code",
   "execution_count": 20,
   "id": "8ed772b3",
   "metadata": {},
   "outputs": [
    {
     "data": {
      "text/plain": [
       "RandomForestRegressor(random_state=300)"
      ]
     },
     "execution_count": 20,
     "metadata": {},
     "output_type": "execute_result"
    }
   ],
   "source": [
    "randomf_model = RandomForestRegressor(n_estimators=100, random_state=300)\n",
    "randomf_model.fit(X_train, Y_train)"
   ]
  },
  {
   "cell_type": "code",
   "execution_count": 21,
   "id": "30e25634",
   "metadata": {},
   "outputs": [],
   "source": [
    "randomf_pred = randomf_model.predict(X_test)"
   ]
  },
  {
   "cell_type": "code",
   "execution_count": 22,
   "id": "94c61084",
   "metadata": {},
   "outputs": [],
   "source": [
    "randomf_spuared = mean_squared_error(Y_test, randomf_pred)\n",
    "randomf_absolute = mean_absolute_error(Y_test, randomf_pred)\n",
    "randomf_r2_score = r2_score(Y_test, randomf_pred)"
   ]
  },
  {
   "cell_type": "markdown",
   "id": "d5add68f",
   "metadata": {},
   "source": [
    "XGBoost Regressor"
   ]
  },
  {
   "cell_type": "code",
   "execution_count": 23,
   "id": "df026cf4",
   "metadata": {},
   "outputs": [
    {
     "name": "stdout",
     "output_type": "stream",
     "text": [
      "Collecting xgboost\n",
      "  Downloading xgboost-2.1.4-py3-none-win_amd64.whl (124.9 MB)\n",
      "     ------------------------------------- 124.9/124.9 MB 17.7 MB/s eta 0:00:00\n",
      "Requirement already satisfied: numpy in c:\\users\\hscomputer\\anaconda3\\lib\\site-packages (from xgboost) (1.21.5)\n",
      "Requirement already satisfied: scipy in c:\\users\\hscomputer\\anaconda3\\lib\\site-packages (from xgboost) (1.9.1)\n",
      "Installing collected packages: xgboost\n",
      "Successfully installed xgboost-2.1.4\n"
     ]
    }
   ],
   "source": [
    "!pip install xgboost\n",
    "from xgboost import XGBRegressor"
   ]
  },
  {
   "cell_type": "code",
   "execution_count": 24,
   "id": "d13eae62",
   "metadata": {},
   "outputs": [
    {
     "data": {
      "text/plain": [
       "XGBRegressor(base_score=None, booster=None, callbacks=None,\n",
       "             colsample_bylevel=None, colsample_bynode=None,\n",
       "             colsample_bytree=None, device=None, early_stopping_rounds=None,\n",
       "             enable_categorical=False, eval_metric=None, feature_types=None,\n",
       "             gamma=None, grow_policy=None, importance_type=None,\n",
       "             interaction_constraints=None, learning_rate=0.1, max_bin=None,\n",
       "             max_cat_threshold=None, max_cat_to_onehot=None,\n",
       "             max_delta_step=None, max_depth=5, max_leaves=None,\n",
       "             min_child_weight=None, missing=nan, monotone_constraints=None,\n",
       "             multi_strategy=None, n_estimators=100, n_jobs=None,\n",
       "             num_parallel_tree=None, random_state=300, ...)"
      ]
     },
     "execution_count": 24,
     "metadata": {},
     "output_type": "execute_result"
    }
   ],
   "source": [
    "xgb_model = XGBRegressor(n_estimators=100, learning_rate=0.1, max_depth=5, random_state=300)\n",
    "xgb_model.fit(X_train, Y_train)"
   ]
  },
  {
   "cell_type": "code",
   "execution_count": 25,
   "id": "3e3b5bac",
   "metadata": {},
   "outputs": [],
   "source": [
    "xgb_pred = xgb_model.predict(X_test)"
   ]
  },
  {
   "cell_type": "code",
   "execution_count": 26,
   "id": "4c8a60d4",
   "metadata": {},
   "outputs": [],
   "source": [
    "xgb_spuared = mean_squared_error(Y_test, xgb_pred)\n",
    "xgb_absolute = mean_absolute_error(Y_test, xgb_pred)\n",
    "xgb_r2_score = r2_score(Y_test, xgb_pred)"
   ]
  },
  {
   "cell_type": "markdown",
   "id": "69189a89",
   "metadata": {},
   "source": [
    "Lasso 기반 특성 선택"
   ]
  },
  {
   "cell_type": "code",
   "execution_count": 27,
   "id": "1c46cfef",
   "metadata": {},
   "outputs": [],
   "source": [
    "from sklearn.linear_model import LassoCV"
   ]
  },
  {
   "cell_type": "code",
   "execution_count": 28,
   "id": "57d18cda",
   "metadata": {},
   "outputs": [
    {
     "data": {
      "text/plain": [
       "LassoCV(cv=5, random_state=300)"
      ]
     },
     "execution_count": 28,
     "metadata": {},
     "output_type": "execute_result"
    }
   ],
   "source": [
    "lasso_model = LassoCV(cv=5, random_state=300)\n",
    "lasso_model.fit(X_train, Y_train)"
   ]
  },
  {
   "cell_type": "code",
   "execution_count": 29,
   "id": "5ecb0016",
   "metadata": {},
   "outputs": [],
   "source": [
    "lasso_pred = lasso_model.predict(X_test)"
   ]
  },
  {
   "cell_type": "code",
   "execution_count": 30,
   "id": "20e79c92",
   "metadata": {},
   "outputs": [],
   "source": [
    "lasso_spuared = mean_squared_error(Y_test, lasso_pred)\n",
    "lasso_absolute = mean_absolute_error(Y_test, lasso_pred)\n",
    "lasso_r2_score = r2_score(Y_test, lasso_pred)"
   ]
  },
  {
   "cell_type": "markdown",
   "id": "3cbdc4c3",
   "metadata": {},
   "source": [
    "Ridge Regression"
   ]
  },
  {
   "cell_type": "code",
   "execution_count": 31,
   "id": "5d95a365",
   "metadata": {},
   "outputs": [],
   "source": [
    "from sklearn.linear_model import Ridge"
   ]
  },
  {
   "cell_type": "code",
   "execution_count": 32,
   "id": "0897dc29",
   "metadata": {},
   "outputs": [
    {
     "data": {
      "text/plain": [
       "Ridge(random_state=300)"
      ]
     },
     "execution_count": 32,
     "metadata": {},
     "output_type": "execute_result"
    }
   ],
   "source": [
    "ridge_model = Ridge(alpha=1.0, random_state=300)\n",
    "ridge_model.fit(X_train, Y_train)"
   ]
  },
  {
   "cell_type": "code",
   "execution_count": 33,
   "id": "32139bc5",
   "metadata": {},
   "outputs": [],
   "source": [
    "ridge_pred = ridge_model.predict(X_test)"
   ]
  },
  {
   "cell_type": "code",
   "execution_count": 34,
   "id": "1605f32e",
   "metadata": {},
   "outputs": [],
   "source": [
    "ridge_spuared = mean_squared_error(Y_test, ridge_pred)\n",
    "ridge_absolute = mean_absolute_error(Y_test, ridge_pred)\n",
    "ridge_r2_score = r2_score(Y_test, ridge_pred)"
   ]
  },
  {
   "cell_type": "markdown",
   "id": "7cdceeb5",
   "metadata": {},
   "source": [
    "ElasticNet"
   ]
  },
  {
   "cell_type": "code",
   "execution_count": 35,
   "id": "9acf7f6c",
   "metadata": {},
   "outputs": [],
   "source": [
    "from sklearn.linear_model import ElasticNet\n",
    "from sklearn.preprocessing import StandardScaler\n",
    "from sklearn.pipeline import make_pipeline"
   ]
  },
  {
   "cell_type": "code",
   "execution_count": 36,
   "id": "3344b269",
   "metadata": {},
   "outputs": [
    {
     "data": {
      "text/plain": [
       "Pipeline(steps=[('standardscaler', StandardScaler()),\n",
       "                ('elasticnet', ElasticNet(random_state=300))])"
      ]
     },
     "execution_count": 36,
     "metadata": {},
     "output_type": "execute_result"
    }
   ],
   "source": [
    "elan_model = make_pipeline(StandardScaler(), ElasticNet(alpha=1.0, l1_ratio=0.5, random_state=300))\n",
    "elan_model.fit(X_train, Y_train)"
   ]
  },
  {
   "cell_type": "code",
   "execution_count": 37,
   "id": "bb3a8746",
   "metadata": {},
   "outputs": [],
   "source": [
    "elan_pred = elan_model.predict(X_test)"
   ]
  },
  {
   "cell_type": "code",
   "execution_count": 38,
   "id": "d1f80f42",
   "metadata": {},
   "outputs": [],
   "source": [
    "elan_spuared = mean_squared_error(Y_test, elan_pred)\n",
    "elan_absolute = mean_absolute_error(Y_test, elan_pred)\n",
    "elan_r2_score = r2_score(Y_test, elan_pred)"
   ]
  },
  {
   "cell_type": "markdown",
   "id": "5295a2e8",
   "metadata": {},
   "source": [
    "KNN Regressor"
   ]
  },
  {
   "cell_type": "code",
   "execution_count": 39,
   "id": "a8e1ef1c",
   "metadata": {},
   "outputs": [],
   "source": [
    "from sklearn.neighbors import KNeighborsRegressor"
   ]
  },
  {
   "cell_type": "code",
   "execution_count": 40,
   "id": "fcf88440",
   "metadata": {},
   "outputs": [
    {
     "data": {
      "text/plain": [
       "Pipeline(steps=[('standardscaler', StandardScaler()),\n",
       "                ('kneighborsregressor', KNeighborsRegressor())])"
      ]
     },
     "execution_count": 40,
     "metadata": {},
     "output_type": "execute_result"
    }
   ],
   "source": [
    "KNN_model = make_pipeline(StandardScaler(), KNeighborsRegressor(n_neighbors=5))\n",
    "KNN_model.fit(X_train, Y_train)"
   ]
  },
  {
   "cell_type": "code",
   "execution_count": 41,
   "id": "1c574f47",
   "metadata": {},
   "outputs": [],
   "source": [
    "KNN_pred = KNN_model.predict(X_test)"
   ]
  },
  {
   "cell_type": "code",
   "execution_count": 42,
   "id": "2bd1e4dc",
   "metadata": {},
   "outputs": [],
   "source": [
    "KNN_spuared = mean_squared_error(Y_test, KNN_pred)\n",
    "KNN_absolute = mean_absolute_error(Y_test, KNN_pred)\n",
    "KNN_r2_score = r2_score(Y_test, KNN_pred)"
   ]
  },
  {
   "cell_type": "code",
   "execution_count": 43,
   "id": "a0b7deb3",
   "metadata": {},
   "outputs": [],
   "source": [
    "import matplotlib.pyplot as plt"
   ]
  },
  {
   "cell_type": "code",
   "execution_count": 44,
   "id": "51d4edb5",
   "metadata": {},
   "outputs": [
    {
     "data": {
      "text/plain": [
       "Text(0.5, 1.0, 'Mean Squared Error of Various Regression Models')"
      ]
     },
     "execution_count": 44,
     "metadata": {},
     "output_type": "execute_result"
    },
    {
     "data": {
      "image/png": "[encoded data removed]",
      "text/plain": [
       "<Figure size 1200x800 with 1 Axes>"
      ]
     },
     "metadata": {},
     "output_type": "display_data"
    }
   ],
   "source": [
    "plt.figure(figsize=(12, 8))\n",
    "\n",
    "evaluation_metric = [\"Mean Squared Error\"]\n",
    "\n",
    "linear_y = [linear_spuared]\n",
    "randomf_y = [randomf_spuared]\n",
    "xgb_y = [xgb_spuared]\n",
    "lasso_y = [lasso_spuared]\n",
    "ridge_y = [ridge_spuared]\n",
    "elan_y = [elan_spuared]\n",
    "KNN_y = [KNN_spuared]\n",
    "\n",
    "x = np.arange(len(evaluation_metric))\n",
    "\n",
    "plt.bar(x, linear_y, width=0.2, label='Linear Regression')\n",
    "plt.bar(x + 0.2, randomf_y, width=0.2, label='RandomForest Regression')\n",
    "plt.bar(x + 0.4, xgb_y, width=0.2, label='XGBoost Regression')\n",
    "plt.bar(x + 0.6, lasso_y, width=0.2, label='Lasso Regression')\n",
    "plt.bar(x + 0.8, ridge_y, width=0.2, label='Ridge Regression')\n",
    "plt.bar(x + 1.0, elan_y, width=0.2, label='ElasticNet')\n",
    "plt.bar(x + 1.2, KNN_y, width=0.2, label='KNN Regression')\n",
    "\n",
    "plt.ylim(2000, 3500)\n",
    "\n",
    "plt.xticks(x + 0.6, evaluation_metric)\n",
    "\n",
    "plt.legend()\n",
    "\n",
    "plt.title('Mean Squared Error of Various Regression Models')"
   ]
  },
  {
   "cell_type": "code",
   "execution_count": 45,
   "id": "fc75a252",
   "metadata": {},
   "outputs": [
    {
     "name": "stdout",
     "output_type": "stream",
     "text": [
      "[2335.8643919824767]\n"
     ]
    }
   ],
   "source": [
    "print(randomf_y)"
   ]
  },
  {
   "cell_type": "code",
   "execution_count": 46,
   "id": "39d740cb",
   "metadata": {},
   "outputs": [
    {
     "data": {
      "text/plain": [
       "Text(0.5, 1.0, 'Mean Absolute Error of Various Regression Models')"
      ]
     },
     "execution_count": 46,
     "metadata": {},
     "output_type": "execute_result"
    },
    {
     "data": {
      "image/png": "[encoded data removed]",
      "text/plain": [
       "<Figure size 1200x800 with 1 Axes>"
      ]
     },
     "metadata": {},
     "output_type": "display_data"
    }
   ],
   "source": [
    "plt.figure(figsize=(12, 8))\n",
    "\n",
    "evaluation_metric = [\"Mean Absolute Error\"]\n",
    "\n",
    "linear_y = [linear_absolute]\n",
    "randomf_y = [randomf_absolute]\n",
    "xgb_y = [xgb_absolute]\n",
    "lasso_y = [lasso_absolute]\n",
    "ridge_y = [ridge_absolute]\n",
    "elan_y = [elan_absolute]\n",
    "KNN_y = [KNN_absolute]\n",
    "\n",
    "x = np.arange(len(evaluation_metric))\n",
    "\n",
    "plt.bar(x, linear_y, width=0.2, label='Linear Regression')\n",
    "plt.bar(x + 0.2, randomf_y, width=0.2, label='RandomForest Regression')\n",
    "plt.bar(x + 0.4, xgb_y, width=0.2, label='XGBoost Regression')\n",
    "plt.bar(x + 0.6, lasso_y, width=0.2, label='Lasso Regression')\n",
    "plt.bar(x + 0.8, ridge_y, width=0.2, label='Ridge Regression')\n",
    "plt.bar(x + 1.0, elan_y, width=0.2, label='ElasticNet')\n",
    "plt.bar(x + 1.2, KNN_y, width=0.2, label='KNN Regression')\n",
    "\n",
    "plt.ylim(25, 35)\n",
    "\n",
    "plt.xticks(x + 0.6, evaluation_metric)\n",
    "\n",
    "plt.legend()\n",
    "\n",
    "plt.title('Mean Absolute Error of Various Regression Models')"
   ]
  },
  {
   "cell_type": "code",
   "execution_count": 47,
   "id": "55936158",
   "metadata": {},
   "outputs": [
    {
     "name": "stdout",
     "output_type": "stream",
     "text": [
      "[33.53525772949665]\n"
     ]
    }
   ],
   "source": [
    "print(randomf_y)"
   ]
  },
  {
   "cell_type": "code",
   "execution_count": 48,
   "id": "4491ed03",
   "metadata": {},
   "outputs": [
    {
     "data": {
      "text/plain": [
       "Text(0.5, 1.0, 'R2 Score of Various Regression Models')"
      ]
     },
     "execution_count": 48,
     "metadata": {},
     "output_type": "execute_result"
    },
    {
     "data": {
      "image/png": "[encoded data removed]",
      "text/plain": [
       "<Figure size 1200x800 with 1 Axes>"
      ]
     },
     "metadata": {},
     "output_type": "display_data"
    }
   ],
   "source": [
    "plt.figure(figsize=(12, 8))\n",
    "\n",
    "evaluation_metric = [\"R2 Score\"]\n",
    "\n",
    "linear_y = [linear_r2_score]\n",
    "randomf_y = [randomf_r2_score]\n",
    "xgb_y = [xgb_r2_score]\n",
    "lasso_y = [lasso_r2_score]\n",
    "ridge_y = [ridge_r2_score]\n",
    "elan_y = [elan_r2_score]\n",
    "KNN_y = [KNN_r2_score]\n",
    "\n",
    "x = np.arange(len(evaluation_metric))\n",
    "\n",
    "plt.bar(x, linear_y, width=0.2, label='Linear Regression')\n",
    "plt.bar(x + 0.2, randomf_y, width=0.2, label='RandomForest Regression')\n",
    "plt.bar(x + 0.4, xgb_y, width=0.2, label='XGBoost Regression')\n",
    "plt.bar(x + 0.6, lasso_y, width=0.2, label='Lasso Regression')\n",
    "plt.bar(x + 0.8, ridge_y, width=0.2, label='Ridge Regression')\n",
    "plt.bar(x + 1.0, elan_y, width=0.2, label='ElasticNet')\n",
    "plt.bar(x + 1.2, KNN_y, width=0.2, label='KNN Regression')\n",
    "\n",
    "plt.ylim(0.1, 0.45)\n",
    "\n",
    "plt.xticks(x + 0.6, evaluation_metric)\n",
    "\n",
    "plt.legend()\n",
    "\n",
    "plt.title('R2 Score of Various Regression Models')"
   ]
  },
  {
   "cell_type": "code",
   "execution_count": 49,
   "id": "14a9b262",
   "metadata": {},
   "outputs": [
    {
     "name": "stdout",
     "output_type": "stream",
     "text": [
      "[0.34073855274293785]\n"
     ]
    }
   ],
   "source": [
    "print(randomf_y)"
   ]
  },
  {
   "cell_type": "code",
   "execution_count": 50,
   "id": "fe026c46",
   "metadata": {},
   "outputs": [],
   "source": [
    "from sklearn.model_selection import GridSearchCV"
   ]
  },
  {
   "cell_type": "code",
   "execution_count": 51,
   "id": "1fe019cb",
   "metadata": {},
   "outputs": [],
   "source": [
    "radomf_g_model = RandomForestRegressor(random_state=300)"
   ]
  },
  {
   "cell_type": "code",
   "execution_count": 52,
   "id": "bc15e673",
   "metadata": {},
   "outputs": [],
   "source": [
    "parameter = {\n",
    "    'n_estimators': [100, 300, 500],  \n",
    "    'max_depth': [None, 6, 12],       \n",
    "    'min_samples_split': [2, 5],      \n",
    "    'min_samples_leaf': [1, 2],       \n",
    "    'max_features': [1.0, 'sqrt', 0.8],  \n",
    "    'criterion': ['squared_error', 'absolute_error']\n",
    "}"
   ]
  },
  {
   "cell_type": "code",
   "execution_count": 53,
   "id": "b4b95b19",
   "metadata": {},
   "outputs": [],
   "source": [
    "grid_search = GridSearchCV(\n",
    "    estimator=radomf_g_model,\n",
    "    param_grid=parameter,\n",
    "    scoring='r2',\n",
    "    cv=5,\n",
    "    verbose=1,\n",
    "    n_jobs=-1\n",
    ")"
   ]
  },
  {
   "cell_type": "code",
   "execution_count": 54,
   "id": "7f5eed63",
   "metadata": {},
   "outputs": [
    {
     "name": "stdout",
     "output_type": "stream",
     "text": [
      "Fitting 5 folds for each of 216 candidates, totalling 1080 fits\n"
     ]
    },
    {
     "data": {
      "text/plain": [
       "Pipeline(steps=[('standardscaler', StandardScaler()),\n",
       "                ('gridsearchcv',\n",
       "                 GridSearchCV(cv=5,\n",
       "                              estimator=RandomForestRegressor(random_state=300),\n",
       "                              n_jobs=-1,\n",
       "                              param_grid={'criterion': ['squared_error',\n",
       "                                                        'absolute_error'],\n",
       "                                          'max_depth': [None, 6, 12],\n",
       "                                          'max_features': [1.0, 'sqrt', 0.8],\n",
       "                                          'min_samples_leaf': [1, 2],\n",
       "                                          'min_samples_split': [2, 5],\n",
       "                                          'n_estimators': [100, 300, 500]},\n",
       "                              scoring='r2', verbose=1))])"
      ]
     },
     "execution_count": 54,
     "metadata": {},
     "output_type": "execute_result"
    }
   ],
   "source": [
    "tuning_model = make_pipeline(StandardScaler(), grid_search)\n",
    "tuning_model.fit(X_train, Y_train)"
   ]
  },
  {
   "cell_type": "code",
   "execution_count": 55,
   "id": "903f08d5",
   "metadata": {},
   "outputs": [
    {
     "name": "stdout",
     "output_type": "stream",
     "text": [
      "Best parameters: {'criterion': 'squared_error', 'max_depth': None, 'max_features': 'sqrt', 'min_samples_leaf': 2, 'min_samples_split': 2, 'n_estimators': 500}\n"
     ]
    }
   ],
   "source": [
    "print(\"Best parameters:\", grid_search.best_params_)"
   ]
  },
  {
   "cell_type": "code",
   "execution_count": 56,
   "id": "8fee618d",
   "metadata": {},
   "outputs": [],
   "source": [
    "tuning_pred = tuning_model.predict(X_test)"
   ]
  },
  {
   "cell_type": "code",
   "execution_count": 57,
   "id": "824106b2",
   "metadata": {},
   "outputs": [],
   "source": [
    "tuning_spuared = mean_squared_error(Y_test, tuning_pred)\n",
    "tuning_absolute = mean_absolute_error(Y_test, tuning_pred)\n",
    "tuning_r2_score = r2_score(Y_test, tuning_pred)"
   ]
  },
  {
   "cell_type": "code",
   "execution_count": 58,
   "id": "d412e560",
   "metadata": {},
   "outputs": [
    {
     "name": "stdout",
     "output_type": "stream",
     "text": [
      "2338.566792925453\n",
      "32.93124003002835\n",
      "0.33997584204669606\n"
     ]
    }
   ],
   "source": [
    "print(tuning_spuared)\n",
    "print(tuning_absolute)\n",
    "print(tuning_r2_score)"
   ]
  },
  {
   "cell_type": "code",
   "execution_count": 64,
   "id": "c29429ff",
   "metadata": {},
   "outputs": [],
   "source": [
    "randomf_new_model = RandomForestRegressor(\n",
    "    criterion='squared_error',\n",
    "    max_depth=None,\n",
    "    max_features='sqrt',\n",
    "    min_samples_leaf=2,\n",
    "    min_samples_split=2,\n",
    "    n_estimators=500,\n",
    "    random_state=300\n",
    ")"
   ]
  },
  {
   "cell_type": "code",
   "execution_count": 65,
   "id": "a0eaa8db",
   "metadata": {},
   "outputs": [
    {
     "data": {
      "text/plain": [
       "RandomForestRegressor(max_features='sqrt', min_samples_leaf=2, n_estimators=500,\n",
       "                      random_state=300)"
      ]
     },
     "execution_count": 65,
     "metadata": {},
     "output_type": "execute_result"
    }
   ],
   "source": [
    "randomf_new_model.fit(X_train, Y_train)"
   ]
  },
  {
   "cell_type": "code",
   "execution_count": 66,
   "id": "284d3922",
   "metadata": {},
   "outputs": [
    {
     "name": "stdout",
     "output_type": "stream",
     "text": [
      "500m내_사고건수_가중치: 0.2244\n",
      "500m내_휴게음식점가중치: 0.1529\n",
      "500m내_자전거도로가중치: 0.0958\n",
      "500m내_교차로가중치: 0.0932\n",
      "500m내_대여소가중치: 0.0924\n",
      "500m내_버스정류소가중치: 0.0790\n",
      "동: 0.0778\n",
      "500m내_지하철역가중치: 0.0753\n",
      "500m내_자전거보관소가중치: 0.0685\n",
      "500m내_고등학교가중치: 0.0282\n",
      "500m내_관광지_여부: 0.0081\n",
      "500m내_대학교가중치: 0.0042\n"
     ]
    }
   ],
   "source": [
    "importances = randomf_new_model.feature_importances_\n",
    "\n",
    "feature_importance = list(zip(X_train.columns, importances))\n",
    "feature_importance = sorted(feature_importance, key=lambda x: x[1], reverse=True)\n",
    "\n",
    "for feature, importance in feature_importance:\n",
    "    print(f\"{feature}: {importance:.4f}\")"
   ]
  },
  {
   "cell_type": "code",
   "execution_count": 67,
   "id": "03bf227c",
   "metadata": {},
   "outputs": [
    {
     "name": "stdout",
     "output_type": "stream",
     "text": [
      "2336.430740133284\n",
      "32.97161152700858\n",
      "0.3405787097731001\n"
     ]
    }
   ],
   "source": [
    "X_train_new = X_train.drop(columns=['500m내_대학교가중치'])\n",
    "X_test_new = X_test.drop(columns=['500m내_대학교가중치'])\n",
    "randomf_new_model.fit(X_train_new, Y_train)\n",
    "\n",
    "randomf_new_pred = randomf_new_model.predict(X_test_new)\n",
    "\n",
    "randomf_new_spuared = mean_squared_error(Y_test, randomf_new_pred)\n",
    "randomf_new_absolute = mean_absolute_error(Y_test, randomf_new_pred)\n",
    "randomf_new_r2_score = r2_score(Y_test, randomf_new_pred)\n",
    "\n",
    "print(randomf_new_spuared)\n",
    "print(randomf_new_absolute)\n",
    "print(randomf_new_r2_score)\n"
   ]
  },
  {
   "cell_type": "code",
   "execution_count": 68,
   "id": "f650e07e",
   "metadata": {},
   "outputs": [
    {
     "name": "stdout",
     "output_type": "stream",
     "text": [
      "2352.527143145996\n",
      "32.99387473691726\n",
      "0.3360357500095895\n"
     ]
    }
   ],
   "source": [
    "X_train_new = X_train.drop(columns=['500m내_대학교가중치','500m내_관광지_여부'])\n",
    "X_test_new = X_test.drop(columns=['500m내_대학교가중치','500m내_관광지_여부'])\n",
    "randomf_new_model.fit(X_train_new, Y_train)\n",
    "\n",
    "randomf_new_pred = randomf_new_model.predict(X_test_new)\n",
    "\n",
    "randomf_new_spuared = mean_squared_error(Y_test, randomf_new_pred)\n",
    "randomf_new_absolute = mean_absolute_error(Y_test, randomf_new_pred)\n",
    "randomf_new_r2_score = r2_score(Y_test, randomf_new_pred)\n",
    "\n",
    "print(randomf_new_spuared)\n",
    "print(randomf_new_absolute)\n",
    "print(randomf_new_r2_score)"
   ]
  }
 ],
 "metadata": {
  "kernelspec": {
   "display_name": "tfenv",
   "language": "python",
   "name": "python3"
  },
  "language_info": {
   "codemirror_mode": {
    "name": "ipython",
    "version": 3
   },
   "file_extension": ".py",
   "mimetype": "text/x-python",
   "name": "python",
   "nbconvert_exporter": "python",
   "pygments_lexer": "ipython3",
   "version": "3.10.16"
  }
 },
 "nbformat": 4,
 "nbformat_minor": 5
}
