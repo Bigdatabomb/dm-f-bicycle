{
 "cells": [
  {
   "cell_type": "code",
   "execution_count": 1,
   "id": "fead6629",
   "metadata": {},
   "outputs": [],
   "source": [
    "import pandas as pd\n",
    "from sklearn.model_selection import train_test_split\n",
    "import os\n",
    "import numpy as np"
   ]
  },
  {
   "cell_type": "code",
   "execution_count": 2,
   "id": "e8a6ec41",
   "metadata": {},
   "outputs": [],
   "source": [
    "file_location = os.getcwd()"
   ]
  },
  {
   "cell_type": "code",
   "execution_count": 3,
   "id": "bc3ab1f9",
   "metadata": {},
   "outputs": [],
   "source": [
    "Jan_path = os.path.join(file_location, 'bicycle_rental_n_return', 'mainJan.csv')\n",
    "Feb_path = os.path.join(file_location, 'bicycle_rental_n_return', 'mainFeb.csv')\n",
    "Mar_path = os.path.join(file_location, 'bicycle_rental_n_return', 'mainMar.csv')\n",
    "Apr_path = os.path.join(file_location, 'bicycle_rental_n_return', 'mainApr.csv')\n",
    "May_path = os.path.join(file_location, 'bicycle_rental_n_return', 'mainMay.csv')\n",
    "Jun_path = os.path.join(file_location, 'bicycle_rental_n_return', 'mainJun.csv')\n",
    "Jul_path = os.path.join(file_location, 'bicycle_rental_n_return', 'mainJul.csv')\n",
    "Aug_path = os.path.join(file_location, 'bicycle_rental_n_return', 'mainAug.csv')\n",
    "Sep_path = os.path.join(file_location, 'bicycle_rental_n_return', 'mainSep.csv')\n",
    "Oct_path = os.path.join(file_location, 'bicycle_rental_n_return', 'mainOct.csv')\n",
    "Nov_path = os.path.join(file_location, 'bicycle_rental_n_return', 'mainNov.csv')\n",
    "Dec_path = os.path.join(file_location, 'bicycle_rental_n_return', 'mainDec.csv')"
   ]
  },
  {
   "cell_type": "code",
   "execution_count": 4,
   "id": "1195c7ff",
   "metadata": {},
   "outputs": [],
   "source": [
    "mainJan = pd.read_csv(Jan_path, encoding='cp949')\n",
    "mainFeb = pd.read_csv(Feb_path, encoding='cp949')\n",
    "mainMar = pd.read_csv(Mar_path, encoding='cp949')\n",
    "mainApr = pd.read_csv(Apr_path, encoding='cp949')\n",
    "mainMay = pd.read_csv(May_path, encoding='cp949')\n",
    "mainJun = pd.read_csv(Jun_path, encoding='cp949')\n",
    "mainJul = pd.read_csv(Jul_path, encoding='cp949')\n",
    "mainAug = pd.read_csv(Aug_path, encoding='cp949')\n",
    "mainSep = pd.read_csv(Sep_path, encoding='cp949')\n",
    "mainOct = pd.read_csv(Oct_path, encoding='cp949')\n",
    "mainNov = pd.read_csv(Nov_path, encoding='cp949')\n",
    "mainDec = pd.read_csv(Dec_path, encoding='cp949')"
   ]
  },
  {
   "cell_type": "code",
   "execution_count": 5,
   "id": "a2bdbc51",
   "metadata": {},
   "outputs": [],
   "source": [
    "month = [mainJan, mainFeb, mainMar, mainApr, mainMay,\n",
    "        mainJun, mainJul, mainAug, mainSep, mainOct,\n",
    "        mainNov, mainDec]\n",
    "\n",
    "for i in month:\n",
    "    i['가변수'] = i['총_사용인원'].notnull().astype(int)"
   ]
  },
  {
   "cell_type": "code",
   "execution_count": 6,
   "id": "9cc0b734",
   "metadata": {},
   "outputs": [],
   "source": [
    "sum_data = month[0]\n",
    "\n",
    "for i in month[1:] :\n",
    "    sum_data['총_사용인원'] += i['총_사용인원']\n",
    "    sum_data['평균_사용인원'] += i['평균_사용인원']\n",
    "    sum_data['가변수'] += i['가변수']"
   ]
  },
  {
   "cell_type": "code",
   "execution_count": 7,
   "id": "aee918f9",
   "metadata": {},
   "outputs": [],
   "source": [
    "sum_data['평균_사용인원'] = sum_data['평균_사용인원']/sum_data['가변수']"
   ]
  },
  {
   "cell_type": "code",
   "execution_count": 8,
   "id": "ade66ad1",
   "metadata": {},
   "outputs": [],
   "source": [
    "total_data = pd.read_csv('data_preprocessing_file.csv', encoding='cp949')\n",
    "total_data = total_data.merge(sum_data[['대여소_ID', '총_사용인원', '평균_사용인원']], on='대여소_ID', how='left')"
   ]
  },
  {
   "cell_type": "code",
   "execution_count": 9,
   "id": "bf6bd5ad",
   "metadata": {},
   "outputs": [],
   "source": [
    "from sklearn.preprocessing import LabelEncoder\n",
    "\n",
    "le = LabelEncoder()\n",
    "total_data['동'] = le.fit_transform(total_data['동'])"
   ]
  },
  {
   "cell_type": "code",
   "execution_count": 10,
   "id": "6eb5e61c",
   "metadata": {},
   "outputs": [],
   "source": [
    "total_data = total_data.dropna(subset=['총_사용인원'])"
   ]
  },
  {
   "cell_type": "code",
   "execution_count": 11,
   "id": "8c77e603",
   "metadata": {},
   "outputs": [],
   "source": [
    "total_data.to_csv('result_data_file.csv', index=False, encoding='cp949')"
   ]
  },
  {
   "cell_type": "code",
   "execution_count": 12,
   "id": "fc0147c1",
   "metadata": {},
   "outputs": [],
   "source": [
    "X = total_data[['500m내_대여소가중치','500m내_버스정류소가중치',\n",
    "                '500m내_지하철역가중치','500m내_교차로가중치',\n",
    "                '500m내_자전거보관소가중치','500m내_자전거도로가중치',\n",
    "                '500m내_고등학교가중치','500m내_대학교가중치',\n",
    "                '500m내_사고건수_가중치','동','500m내_관광지_여부', \n",
    "                '500m내_휴게음식점가중치']]\n",
    "Y = total_data['평균_사용인원'] "
   ]
  },
  {
   "cell_type": "code",
   "execution_count": 13,
   "id": "147a1838",
   "metadata": {},
   "outputs": [],
   "source": [
    "X_train, X_test, Y_train, Y_test = train_test_split(X, Y, test_size=0.2, random_state=300)"
   ]
  },
  {
   "cell_type": "markdown",
   "id": "18075ce3",
   "metadata": {},
   "source": [
    "선형 회귀 분석"
   ]
  },
  {
   "cell_type": "code",
   "execution_count": 14,
   "id": "8d049d2a",
   "metadata": {},
   "outputs": [],
   "source": [
    "from sklearn.linear_model import LinearRegression\n",
    "from sklearn.metrics import mean_squared_error, mean_absolute_error, r2_score"
   ]
  },
  {
   "cell_type": "code",
   "execution_count": 15,
   "id": "5a7dcf6b",
   "metadata": {},
   "outputs": [
    {
     "data": {
      "text/plain": [
       "LinearRegression()"
      ]
     },
     "execution_count": 15,
     "metadata": {},
     "output_type": "execute_result"
    }
   ],
   "source": [
    "linear_model = LinearRegression()\n",
    "linear_model.fit(X_train, Y_train)"
   ]
  },
  {
   "cell_type": "code",
   "execution_count": 16,
   "id": "47523f16",
   "metadata": {},
   "outputs": [],
   "source": [
    "linear_pred = linear_model.predict(X_test)"
   ]
  },
  {
   "cell_type": "code",
   "execution_count": 17,
   "id": "4f95a694",
   "metadata": {},
   "outputs": [],
   "source": [
    "linear_spuared = mean_squared_error(Y_test, linear_pred)\n",
    "linear_absolute = mean_absolute_error(Y_test, linear_pred)\n",
    "linear_r2_score = r2_score(Y_test, linear_pred)"
   ]
  },
  {
   "cell_type": "markdown",
   "id": "1630da4d",
   "metadata": {},
   "source": [
    "랜덤 포레스트"
   ]
  },
  {
   "cell_type": "code",
   "execution_count": 18,
   "id": "153c81d6",
   "metadata": {},
   "outputs": [],
   "source": [
    "from sklearn.ensemble import RandomForestRegressor"
   ]
  },
  {
   "cell_type": "code",
   "execution_count": 19,
   "id": "8ed772b3",
   "metadata": {},
   "outputs": [
    {
     "data": {
      "text/plain": [
       "RandomForestRegressor(random_state=300)"
      ]
     },
     "execution_count": 19,
     "metadata": {},
     "output_type": "execute_result"
    }
   ],
   "source": [
    "randomf_model = RandomForestRegressor(n_estimators=100, random_state=300)\n",
    "randomf_model.fit(X_train, Y_train)"
   ]
  },
  {
   "cell_type": "code",
   "execution_count": 20,
   "id": "30e25634",
   "metadata": {},
   "outputs": [],
   "source": [
    "randomf_pred = randomf_model.predict(X_test)"
   ]
  },
  {
   "cell_type": "code",
   "execution_count": 21,
   "id": "94c61084",
   "metadata": {},
   "outputs": [],
   "source": [
    "randomf_spuared = mean_squared_error(Y_test, randomf_pred)\n",
    "randomf_absolute = mean_absolute_error(Y_test, randomf_pred)\n",
    "randomf_r2_score = r2_score(Y_test, randomf_pred)"
   ]
  },
  {
   "cell_type": "markdown",
   "id": "d5add68f",
   "metadata": {},
   "source": [
    "XGBoost Regressor"
   ]
  },
  {
   "cell_type": "code",
   "execution_count": 22,
   "id": "df026cf4",
   "metadata": {},
   "outputs": [
    {
     "name": "stdout",
     "output_type": "stream",
     "text": [
      "Requirement already satisfied: xgboost in c:\\users\\hscomputer\\anaconda3\\lib\\site-packages (2.1.4)\n",
      "Requirement already satisfied: numpy in c:\\users\\hscomputer\\anaconda3\\lib\\site-packages (from xgboost) (1.21.5)\n",
      "Requirement already satisfied: scipy in c:\\users\\hscomputer\\anaconda3\\lib\\site-packages (from xgboost) (1.9.1)\n"
     ]
    }
   ],
   "source": [
    "!pip install xgboost\n",
    "from xgboost import XGBRegressor"
   ]
  },
  {
   "cell_type": "code",
   "execution_count": 23,
   "id": "d13eae62",
   "metadata": {},
   "outputs": [
    {
     "data": {
      "text/plain": [
       "XGBRegressor(base_score=None, booster=None, callbacks=None,\n",
       "             colsample_bylevel=None, colsample_bynode=None,\n",
       "             colsample_bytree=None, device=None, early_stopping_rounds=None,\n",
       "             enable_categorical=False, eval_metric=None, feature_types=None,\n",
       "             gamma=None, grow_policy=None, importance_type=None,\n",
       "             interaction_constraints=None, learning_rate=0.1, max_bin=None,\n",
       "             max_cat_threshold=None, max_cat_to_onehot=None,\n",
       "             max_delta_step=None, max_depth=5, max_leaves=None,\n",
       "             min_child_weight=None, missing=nan, monotone_constraints=None,\n",
       "             multi_strategy=None, n_estimators=100, n_jobs=None,\n",
       "             num_parallel_tree=None, random_state=300, ...)"
      ]
     },
     "execution_count": 23,
     "metadata": {},
     "output_type": "execute_result"
    }
   ],
   "source": [
    "xgb_model = XGBRegressor(n_estimators=100, learning_rate=0.1, max_depth=5, random_state=300)\n",
    "xgb_model.fit(X_train, Y_train)"
   ]
  },
  {
   "cell_type": "code",
   "execution_count": 24,
   "id": "3e3b5bac",
   "metadata": {},
   "outputs": [],
   "source": [
    "xgb_pred = xgb_model.predict(X_test)"
   ]
  },
  {
   "cell_type": "code",
   "execution_count": 25,
   "id": "4c8a60d4",
   "metadata": {},
   "outputs": [],
   "source": [
    "xgb_spuared = mean_squared_error(Y_test, xgb_pred)\n",
    "xgb_absolute = mean_absolute_error(Y_test, xgb_pred)\n",
    "xgb_r2_score = r2_score(Y_test, xgb_pred)"
   ]
  },
  {
   "cell_type": "markdown",
   "id": "69189a89",
   "metadata": {},
   "source": [
    "Lasso 기반 특성 선택"
   ]
  },
  {
   "cell_type": "code",
   "execution_count": 26,
   "id": "1c46cfef",
   "metadata": {},
   "outputs": [],
   "source": [
    "from sklearn.linear_model import LassoCV"
   ]
  },
  {
   "cell_type": "code",
   "execution_count": 27,
   "id": "57d18cda",
   "metadata": {},
   "outputs": [
    {
     "data": {
      "text/plain": [
       "LassoCV(cv=5, random_state=300)"
      ]
     },
     "execution_count": 27,
     "metadata": {},
     "output_type": "execute_result"
    }
   ],
   "source": [
    "lasso_model = LassoCV(cv=5, random_state=300)\n",
    "lasso_model.fit(X_train, Y_train)"
   ]
  },
  {
   "cell_type": "code",
   "execution_count": 28,
   "id": "5ecb0016",
   "metadata": {},
   "outputs": [],
   "source": [
    "lasso_pred = lasso_model.predict(X_test)"
   ]
  },
  {
   "cell_type": "code",
   "execution_count": 29,
   "id": "20e79c92",
   "metadata": {},
   "outputs": [],
   "source": [
    "lasso_spuared = mean_squared_error(Y_test, lasso_pred)\n",
    "lasso_absolute = mean_absolute_error(Y_test, lasso_pred)\n",
    "lasso_r2_score = r2_score(Y_test, lasso_pred)"
   ]
  },
  {
   "cell_type": "markdown",
   "id": "3cbdc4c3",
   "metadata": {},
   "source": [
    "Ridge Regression"
   ]
  },
  {
   "cell_type": "code",
   "execution_count": 30,
   "id": "5d95a365",
   "metadata": {},
   "outputs": [],
   "source": [
    "from sklearn.linear_model import Ridge"
   ]
  },
  {
   "cell_type": "code",
   "execution_count": 31,
   "id": "0897dc29",
   "metadata": {},
   "outputs": [
    {
     "data": {
      "text/plain": [
       "Ridge(random_state=300)"
      ]
     },
     "execution_count": 31,
     "metadata": {},
     "output_type": "execute_result"
    }
   ],
   "source": [
    "ridge_model = Ridge(alpha=1.0, random_state=300)\n",
    "ridge_model.fit(X_train, Y_train)"
   ]
  },
  {
   "cell_type": "code",
   "execution_count": 32,
   "id": "32139bc5",
   "metadata": {},
   "outputs": [],
   "source": [
    "ridge_pred = ridge_model.predict(X_test)"
   ]
  },
  {
   "cell_type": "code",
   "execution_count": 33,
   "id": "1605f32e",
   "metadata": {},
   "outputs": [],
   "source": [
    "ridge_spuared = mean_squared_error(Y_test, ridge_pred)\n",
    "ridge_absolute = mean_absolute_error(Y_test, ridge_pred)\n",
    "ridge_r2_score = r2_score(Y_test, ridge_pred)"
   ]
  },
  {
   "cell_type": "markdown",
   "id": "7cdceeb5",
   "metadata": {},
   "source": [
    "ElasticNet"
   ]
  },
  {
   "cell_type": "code",
   "execution_count": 34,
   "id": "9acf7f6c",
   "metadata": {},
   "outputs": [],
   "source": [
    "from sklearn.linear_model import ElasticNet\n",
    "from sklearn.preprocessing import StandardScaler\n",
    "from sklearn.pipeline import make_pipeline"
   ]
  },
  {
   "cell_type": "code",
   "execution_count": 35,
   "id": "3344b269",
   "metadata": {},
   "outputs": [
    {
     "data": {
      "text/plain": [
       "Pipeline(steps=[('standardscaler', StandardScaler()),\n",
       "                ('elasticnet', ElasticNet(random_state=300))])"
      ]
     },
     "execution_count": 35,
     "metadata": {},
     "output_type": "execute_result"
    }
   ],
   "source": [
    "elan_model = make_pipeline(StandardScaler(), ElasticNet(alpha=1.0, l1_ratio=0.5, random_state=300))\n",
    "elan_model.fit(X_train, Y_train)"
   ]
  },
  {
   "cell_type": "code",
   "execution_count": 36,
   "id": "bb3a8746",
   "metadata": {},
   "outputs": [],
   "source": [
    "elan_pred = elan_model.predict(X_test)"
   ]
  },
  {
   "cell_type": "code",
   "execution_count": 37,
   "id": "d1f80f42",
   "metadata": {},
   "outputs": [],
   "source": [
    "elan_spuared = mean_squared_error(Y_test, elan_pred)\n",
    "elan_absolute = mean_absolute_error(Y_test, elan_pred)\n",
    "elan_r2_score = r2_score(Y_test, elan_pred)"
   ]
  },
  {
   "cell_type": "markdown",
   "id": "5295a2e8",
   "metadata": {},
   "source": [
    "KNN Regressor"
   ]
  },
  {
   "cell_type": "code",
   "execution_count": 38,
   "id": "a8e1ef1c",
   "metadata": {},
   "outputs": [],
   "source": [
    "from sklearn.neighbors import KNeighborsRegressor"
   ]
  },
  {
   "cell_type": "code",
   "execution_count": 39,
   "id": "fcf88440",
   "metadata": {},
   "outputs": [
    {
     "data": {
      "text/plain": [
       "Pipeline(steps=[('standardscaler', StandardScaler()),\n",
       "                ('kneighborsregressor', KNeighborsRegressor())])"
      ]
     },
     "execution_count": 39,
     "metadata": {},
     "output_type": "execute_result"
    }
   ],
   "source": [
    "KNN_model = make_pipeline(StandardScaler(), KNeighborsRegressor(n_neighbors=5))\n",
    "KNN_model.fit(X_train, Y_train)"
   ]
  },
  {
   "cell_type": "code",
   "execution_count": 40,
   "id": "1c574f47",
   "metadata": {},
   "outputs": [],
   "source": [
    "KNN_pred = KNN_model.predict(X_test)"
   ]
  },
  {
   "cell_type": "code",
   "execution_count": 41,
   "id": "2bd1e4dc",
   "metadata": {},
   "outputs": [],
   "source": [
    "KNN_spuared = mean_squared_error(Y_test, KNN_pred)\n",
    "KNN_absolute = mean_absolute_error(Y_test, KNN_pred)\n",
    "KNN_r2_score = r2_score(Y_test, KNN_pred)"
   ]
  },
  {
   "cell_type": "code",
   "execution_count": 42,
   "id": "a0b7deb3",
   "metadata": {},
   "outputs": [],
   "source": [
    "import matplotlib.pyplot as plt"
   ]
  },
  {
   "cell_type": "code",
   "execution_count": 43,
   "id": "51d4edb5",
   "metadata": {},
   "outputs": [
    {
     "data": {
      "text/plain": [
       "Text(0.5, 1.0, 'Mean Squared Error of Various Regression Models')"
      ]
     },
     "execution_count": 43,
     "metadata": {},
     "output_type": "execute_result"
    },
    {
     "data": {
      "image/png": "[encoded data removed]",
      "text/plain": [
       "<Figure size 1200x800 with 1 Axes>"
      ]
     },
     "metadata": {},
     "output_type": "display_data"
    }
   ],
   "source": [
    "plt.figure(figsize=(12, 8))\n",
    "\n",
    "evaluation_metric = [\"Mean Squared Error\"]\n",
    "\n",
    "linear_y = [linear_spuared]\n",
    "randomf_y = [randomf_spuared]\n",
    "xgb_y = [xgb_spuared]\n",
    "lasso_y = [lasso_spuared]\n",
    "ridge_y = [ridge_spuared]\n",
    "elan_y = [elan_spuared]\n",
    "KNN_y = [KNN_spuared]\n",
    "\n",
    "x = np.arange(len(evaluation_metric))\n",
    "\n",
    "plt.bar(x, linear_y, width=0.2, label='Linear Regression')\n",
    "plt.bar(x + 0.2, randomf_y, width=0.2, label='RandomForest Regression')\n",
    "plt.bar(x + 0.4, xgb_y, width=0.2, label='XGBoost Regression')\n",
    "plt.bar(x + 0.6, lasso_y, width=0.2, label='Lasso Regression')\n",
    "plt.bar(x + 0.8, ridge_y, width=0.2, label='Ridge Regression')\n",
    "plt.bar(x + 1.0, elan_y, width=0.2, label='ElasticNet')\n",
    "plt.bar(x + 1.2, KNN_y, width=0.2, label='KNN Regression')\n",
    "\n",
    "plt.ylim(2000, 3500)\n",
    "\n",
    "plt.xticks(x + 0.6, evaluation_metric)\n",
    "\n",
    "plt.legend()\n",
    "\n",
    "plt.title('Mean Squared Error of Various Regression Models')"
   ]
  },
  {
   "cell_type": "code",
   "execution_count": 44,
   "id": "fc75a252",
   "metadata": {},
   "outputs": [
    {
     "name": "stdout",
     "output_type": "stream",
     "text": [
      "[2235.6193420540903]\n"
     ]
    }
   ],
   "source": [
    "print(xgb_y)"
   ]
  },
  {
   "cell_type": "code",
   "execution_count": 45,
   "id": "39d740cb",
   "metadata": {},
   "outputs": [
    {
     "data": {
      "text/plain": [
       "Text(0.5, 1.0, 'Mean Absolute Error of Various Regression Models')"
      ]
     },
     "execution_count": 45,
     "metadata": {},
     "output_type": "execute_result"
    },
    {
     "data": {
      "image/png": "[encoded data removed]",
      "text/plain": [
       "<Figure size 1200x800 with 1 Axes>"
      ]
     },
     "metadata": {},
     "output_type": "display_data"
    }
   ],
   "source": [
    "plt.figure(figsize=(12, 8))\n",
    "\n",
    "evaluation_metric = [\"Mean Absolute Error\"]\n",
    "\n",
    "linear_y = [linear_absolute]\n",
    "randomf_y = [randomf_absolute]\n",
    "xgb_y = [xgb_absolute]\n",
    "lasso_y = [lasso_absolute]\n",
    "ridge_y = [ridge_absolute]\n",
    "elan_y = [elan_absolute]\n",
    "KNN_y = [KNN_absolute]\n",
    "\n",
    "x = np.arange(len(evaluation_metric))\n",
    "\n",
    "plt.bar(x, linear_y, width=0.2, label='Linear Regression')\n",
    "plt.bar(x + 0.2, randomf_y, width=0.2, label='RandomForest Regression')\n",
    "plt.bar(x + 0.4, xgb_y, width=0.2, label='XGBoost Regression')\n",
    "plt.bar(x + 0.6, lasso_y, width=0.2, label='Lasso Regression')\n",
    "plt.bar(x + 0.8, ridge_y, width=0.2, label='Ridge Regression')\n",
    "plt.bar(x + 1.0, elan_y, width=0.2, label='ElasticNet')\n",
    "plt.bar(x + 1.2, KNN_y, width=0.2, label='KNN Regression')\n",
    "\n",
    "plt.ylim(30, 40)\n",
    "\n",
    "plt.xticks(x + 0.6, evaluation_metric)\n",
    "\n",
    "plt.legend()\n",
    "\n",
    "plt.title('Mean Absolute Error of Various Regression Models')"
   ]
  },
  {
   "cell_type": "code",
   "execution_count": 46,
   "id": "55936158",
   "metadata": {},
   "outputs": [
    {
     "name": "stdout",
     "output_type": "stream",
     "text": [
      "[33.07691659426802]\n"
     ]
    }
   ],
   "source": [
    "print(xgb_y)"
   ]
  },
  {
   "cell_type": "code",
   "execution_count": 47,
   "id": "4491ed03",
   "metadata": {},
   "outputs": [
    {
     "data": {
      "text/plain": [
       "Text(0.5, 1.0, 'R2 Score of Various Regression Models')"
      ]
     },
     "execution_count": 47,
     "metadata": {},
     "output_type": "execute_result"
    },
    {
     "data": {
      "image/png": "[encoded data removed]",
      "text/plain": [
       "<Figure size 1200x800 with 1 Axes>"
      ]
     },
     "metadata": {},
     "output_type": "display_data"
    }
   ],
   "source": [
    "plt.figure(figsize=(12, 8))\n",
    "\n",
    "evaluation_metric = [\"R2 Score\"]\n",
    "\n",
    "linear_y = [linear_r2_score]\n",
    "randomf_y = [randomf_r2_score]\n",
    "xgb_y = [xgb_r2_score]\n",
    "lasso_y = [lasso_r2_score]\n",
    "ridge_y = [ridge_r2_score]\n",
    "elan_y = [elan_r2_score]\n",
    "KNN_y = [KNN_r2_score]\n",
    "\n",
    "x = np.arange(len(evaluation_metric))\n",
    "\n",
    "plt.bar(x, linear_y, width=0.2, label='Linear Regression')\n",
    "plt.bar(x + 0.2, randomf_y, width=0.2, label='RandomForest Regression')\n",
    "plt.bar(x + 0.4, xgb_y, width=0.2, label='XGBoost Regression')\n",
    "plt.bar(x + 0.6, lasso_y, width=0.2, label='Lasso Regression')\n",
    "plt.bar(x + 0.8, ridge_y, width=0.2, label='Ridge Regression')\n",
    "plt.bar(x + 1.0, elan_y, width=0.2, label='ElasticNet')\n",
    "plt.bar(x + 1.2, KNN_y, width=0.2, label='KNN Regression')\n",
    "\n",
    "plt.ylim(0.1, 0.45)\n",
    "\n",
    "plt.xticks(x + 0.6, evaluation_metric)\n",
    "\n",
    "plt.legend()\n",
    "\n",
    "plt.title('R2 Score of Various Regression Models')"
   ]
  },
  {
   "cell_type": "code",
   "execution_count": 48,
   "id": "14a9b262",
   "metadata": {},
   "outputs": [
    {
     "name": "stdout",
     "output_type": "stream",
     "text": [
      "[0.36903116121926083]\n"
     ]
    }
   ],
   "source": [
    "print(xgb_y)"
   ]
  },
  {
   "cell_type": "code",
   "execution_count": 49,
   "id": "fe026c46",
   "metadata": {},
   "outputs": [],
   "source": [
    "from sklearn.model_selection import GridSearchCV"
   ]
  },
  {
   "cell_type": "code",
   "execution_count": 50,
   "id": "1fe019cb",
   "metadata": {},
   "outputs": [],
   "source": [
    "xgb_g_model = XGBRegressor(n_estimators=100, learning_rate=0.1, max_depth=5, random_state=300)"
   ]
  },
  {
   "cell_type": "code",
   "execution_count": 57,
   "id": "bc15e673",
   "metadata": {},
   "outputs": [],
   "source": [
    "parameter = {\n",
    "    'n_estimators': [100, 300, 500],\n",
    "    'max_depth': [5, 12],\n",
    "    'learning_rate': [0.1, 0.05, 0.01],\n",
    "    'subsample': [0.8, 1.0],\n",
    "    'colsample_bytree': [0.8, 1.0],\n",
    "    'gamma': [0, 1, 5]\n",
    "}"
   ]
  },
  {
   "cell_type": "code",
   "execution_count": 58,
   "id": "b4b95b19",
   "metadata": {},
   "outputs": [],
   "source": [
    "grid_search = GridSearchCV(\n",
    "    estimator=xgb_g_model,\n",
    "    param_grid=parameter,\n",
    "    scoring='r2',\n",
    "    cv=5,\n",
    "    verbose=1,\n",
    "    n_jobs=-1\n",
    ")"
   ]
  },
  {
   "cell_type": "code",
   "execution_count": 60,
   "id": "7f5eed63",
   "metadata": {},
   "outputs": [
    {
     "name": "stdout",
     "output_type": "stream",
     "text": [
      "Fitting 5 folds for each of 216 candidates, totalling 1080 fits\n"
     ]
    },
    {
     "data": {
      "text/plain": [
       "Pipeline(steps=[('standardscaler', StandardScaler()),\n",
       "                ('gridsearchcv',\n",
       "                 GridSearchCV(cv=5,\n",
       "                              estimator=XGBRegressor(base_score=None,\n",
       "                                                     booster=None,\n",
       "                                                     callbacks=None,\n",
       "                                                     colsample_bylevel=None,\n",
       "                                                     colsample_bynode=None,\n",
       "                                                     colsample_bytree=None,\n",
       "                                                     device=None,\n",
       "                                                     early_stopping_rounds=None,\n",
       "                                                     enable_categorical=False,\n",
       "                                                     eval_metric=None,\n",
       "                                                     feature_types=None,\n",
       "                                                     gamma=None,\n",
       "                                                     grow_policy=None,\n",
       "                                                     im...\n",
       "                                                     min_child_weight=None,\n",
       "                                                     missing=nan,\n",
       "                                                     monotone_constraints=None,\n",
       "                                                     multi_strategy=None,\n",
       "                                                     n_estimators=100,\n",
       "                                                     n_jobs=None,\n",
       "                                                     num_parallel_tree=None,\n",
       "                                                     random_state=300, ...),\n",
       "                              n_jobs=-1,\n",
       "                              param_grid={'colsample_bytree': [0.8, 1.0],\n",
       "                                          'gamma': [0, 1, 5],\n",
       "                                          'learning_rate': [0.1, 0.05, 0.01],\n",
       "                                          'max_depth': [5, 12],\n",
       "                                          'n_estimators': [100, 300, 500],\n",
       "                                          'subsample': [0.8, 1.0]},\n",
       "                              scoring='r2', verbose=1))])"
      ]
     },
     "execution_count": 60,
     "metadata": {},
     "output_type": "execute_result"
    }
   ],
   "source": [
    "tuning_model = make_pipeline(StandardScaler(), grid_search)\n",
    "tuning_model.fit(X_train, Y_train)"
   ]
  },
  {
   "cell_type": "code",
   "execution_count": 61,
   "id": "903f08d5",
   "metadata": {},
   "outputs": [
    {
     "name": "stdout",
     "output_type": "stream",
     "text": [
      "Best parameters: {'colsample_bytree': 0.8, 'gamma': 1, 'learning_rate': 0.01, 'max_depth': 12, 'n_estimators': 500, 'subsample': 0.8}\n"
     ]
    }
   ],
   "source": [
    "print(\"Best parameters:\", grid_search.best_params_)"
   ]
  },
  {
   "cell_type": "code",
   "execution_count": 62,
   "id": "8fee618d",
   "metadata": {},
   "outputs": [],
   "source": [
    "tuning_pred = tuning_model.predict(X_test)"
   ]
  },
  {
   "cell_type": "code",
   "execution_count": 63,
   "id": "824106b2",
   "metadata": {},
   "outputs": [],
   "source": [
    "tuning_spuared = mean_squared_error(Y_test, tuning_pred)\n",
    "tuning_absolute = mean_absolute_error(Y_test, tuning_pred)\n",
    "tuning_r2_score = r2_score(Y_test, tuning_pred)"
   ]
  },
  {
   "cell_type": "code",
   "execution_count": 64,
   "id": "d412e560",
   "metadata": {},
   "outputs": [
    {
     "name": "stdout",
     "output_type": "stream",
     "text": [
      "2181.364015950249\n",
      "32.33857841356036\n",
      "0.38434388439419875\n"
     ]
    }
   ],
   "source": [
    "print(tuning_spuared)\n",
    "print(tuning_absolute)\n",
    "print(tuning_r2_score)"
   ]
  },
  {
   "cell_type": "code",
   "execution_count": 74,
   "id": "c29429ff",
   "metadata": {},
   "outputs": [],
   "source": [
    "xgb_new_model = XGBRegressor(\n",
    "    colsample_bytree=0.8,\n",
    "    gamma=1,\n",
    "    learning_rate=0.01,\n",
    "    max_depth=12,\n",
    "    n_estimators=500,\n",
    "    subsample=0.8,\n",
    "    objective='reg:squarederror',\n",
    "    random_state=300\n",
    ")"
   ]
  },
  {
   "cell_type": "code",
   "execution_count": 84,
   "id": "a0eaa8db",
   "metadata": {},
   "outputs": [
    {
     "data": {
      "text/plain": [
       "XGBRegressor(base_score=None, booster=None, callbacks=None,\n",
       "             colsample_bylevel=None, colsample_bynode=None,\n",
       "             colsample_bytree=0.8, device=None, early_stopping_rounds=None,\n",
       "             enable_categorical=False, eval_metric=None, feature_types=None,\n",
       "             gamma=1, grow_policy=None, importance_type=None,\n",
       "             interaction_constraints=None, learning_rate=0.01, max_bin=None,\n",
       "             max_cat_threshold=None, max_cat_to_onehot=None,\n",
       "             max_delta_step=None, max_depth=12, max_leaves=None,\n",
       "             min_child_weight=None, missing=nan, monotone_constraints=None,\n",
       "             multi_strategy=None, n_estimators=500, n_jobs=None,\n",
       "             num_parallel_tree=None, random_state=300, ...)"
      ]
     },
     "execution_count": 84,
     "metadata": {},
     "output_type": "execute_result"
    }
   ],
   "source": [
    "xgb_new_model.fit(X_train, Y_train)"
   ]
  },
  {
   "cell_type": "code",
   "execution_count": 85,
   "id": "284d3922",
   "metadata": {},
   "outputs": [
    {
     "name": "stdout",
     "output_type": "stream",
     "text": [
      "500m내_사고건수_가중치: 0.2196\n",
      "500m내_휴게음식점가중치: 0.1312\n",
      "동: 0.1019\n",
      "500m내_자전거도로가중치: 0.0785\n",
      "500m내_관광지_여부: 0.0717\n",
      "500m내_자전거보관소가중치: 0.0699\n",
      "500m내_지하철역가중치: 0.0676\n",
      "500m내_교차로가중치: 0.0635\n",
      "500m내_고등학교가중치: 0.0525\n",
      "500m내_버스정류소가중치: 0.0497\n",
      "500m내_대학교가중치: 0.0492\n",
      "500m내_대여소가중치: 0.0446\n"
     ]
    }
   ],
   "source": [
    "importances = xgb_new_model.feature_importances_\n",
    "\n",
    "feature_importance = list(zip(X_train.columns, importances))\n",
    "feature_importance = sorted(feature_importance, key=lambda x: x[1], reverse=True)\n",
    "\n",
    "for feature, importance in feature_importance:\n",
    "    print(f\"{feature}: {importance:.4f}\")"
   ]
  },
  {
   "cell_type": "code",
   "execution_count": 81,
   "id": "03bf227c",
   "metadata": {},
   "outputs": [
    {
     "name": "stdout",
     "output_type": "stream",
     "text": [
      "2202.491005397173\n",
      "32.61376296323206\n",
      "0.3783811197376671\n"
     ]
    }
   ],
   "source": [
    "X_train_new = X_train.drop(columns=['500m내_대여소가중치'])\n",
    "X_test_new = X_test.drop(columns=['500m내_대여소가중치'])\n",
    "xgb_new_model.fit(X_train_new, Y_train)\n",
    "\n",
    "xgb_new_pred = xgb_new_model.predict(X_test_new)\n",
    "\n",
    "xgb_new_spuared = mean_squared_error(Y_test, xgb_new_pred)\n",
    "xgb_new_absolute = mean_absolute_error(Y_test, xgb_new_pred)\n",
    "xgb_new_r2_score = r2_score(Y_test, xgb_new_pred)\n",
    "\n",
    "print(xgb_new_spuared)\n",
    "print(xgb_new_absolute)\n",
    "print(xgb_new_r2_score)\n"
   ]
  },
  {
   "cell_type": "code",
   "execution_count": 82,
   "id": "f650e07e",
   "metadata": {},
   "outputs": [
    {
     "name": "stdout",
     "output_type": "stream",
     "text": [
      "2125.9392150666336\n",
      "32.08829938404998\n",
      "0.3999866736630807\n"
     ]
    }
   ],
   "source": [
    "X_train_new = X_train.drop(columns=['500m내_대학교가중치','500m내_관광지_여부'])\n",
    "X_test_new = X_test.drop(columns=['500m내_대학교가중치','500m내_관광지_여부'])\n",
    "xgb_new_model.fit(X_train_new, Y_train)\n",
    "\n",
    "xgb_new_pred = xgb_new_model.predict(X_test_new)\n",
    "\n",
    "xgb_new_spuared = mean_squared_error(Y_test, xgb_new_pred)\n",
    "xgb_new_absolute = mean_absolute_error(Y_test, xgb_new_pred)\n",
    "xgb_new_r2_score = r2_score(Y_test, xgb_new_pred)\n",
    "\n",
    "print(xgb_new_spuared)\n",
    "print(xgb_new_absolute)\n",
    "print(xgb_new_r2_score)"
   ]
  }
 ],
 "metadata": {
  "kernelspec": {
   "display_name": "base",
   "language": "python",
   "name": "python3"
  },
  "language_info": {
   "codemirror_mode": {
    "name": "ipython",
    "version": 3
   },
   "file_extension": ".py",
   "mimetype": "text/x-python",
   "name": "python",
   "nbconvert_exporter": "python",
   "pygments_lexer": "ipython3",
   "version": "3.9.13"
  }
 },
 "nbformat": 4,
 "nbformat_minor": 5
}
