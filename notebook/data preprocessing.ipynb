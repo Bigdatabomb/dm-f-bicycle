{
 "cells": [
  {
   "cell_type": "code",
   "execution_count": 1,
   "id": "a3d1fa22",
   "metadata": {},
   "outputs": [
    {
     "name": "stdout",
     "output_type": "stream",
     "text": [
      "Requirement already satisfied: pyproj in c:\\users\\sunda\\anaconda3\\envs\\tfenv\\lib\\site-packages (3.7.1)\n",
      "Requirement already satisfied: certifi in c:\\users\\sunda\\anaconda3\\envs\\tfenv\\lib\\site-packages (from pyproj) (2025.4.26)\n",
      "Requirement already satisfied: geopy in c:\\users\\sunda\\anaconda3\\envs\\tfenv\\lib\\site-packages (2.4.1)\n",
      "Requirement already satisfied: geographiclib<3,>=1.52 in c:\\users\\sunda\\anaconda3\\envs\\tfenv\\lib\\site-packages (from geopy) (2.0)\n"
     ]
    }
   ],
   "source": [
    "!pip install pyproj\n",
    "!pip install geopy"
   ]
  },
  {
   "cell_type": "code",
   "execution_count": 2,
   "id": "0475f532-90f1-46ea-9cd0-fae1f8e76dc8",
   "metadata": {},
   "outputs": [],
   "source": [
    "import pandas as pd\n",
    "from sklearn.neighbors import BallTree\n",
    "import numpy as np\n",
    "from pyproj import Transformer\n",
    "\n",
    "main = pd.read_csv('bike_rental_master.csv', encoding='cp949')"
   ]
  },
  {
   "cell_type": "code",
   "execution_count": 3,
   "id": "bebf69c8-3ffa-4236-bd8b-508a6f7d548d",
   "metadata": {},
   "outputs": [],
   "source": [
    "main = main.drop(columns=['주소2'])\n",
    "main = main[~((main['위도'] == 0) | (main['경도'] == 0))]\n",
    "main2 = main\n",
    "\n",
    "main_coord = np.deg2rad(main[['경도', '위도']].values)\n",
    "tree = BallTree(main_coord, metric='haversine')\n",
    "main2_coord = np.deg2rad(main[['경도', '위도']].values)\n",
    "\n",
    "radius = 500 / 6371000\n",
    "weight_sum = []\n",
    "\n",
    "for point in main2_coord:\n",
    "    ind, dist = tree.query_radius([point], r=radius, return_distance=True)\n",
    "    nearby_dist = dist[0] * 6371000\n",
    "    weight = 1 - (nearby_dist / 500)\n",
    "    weight_sum.append(weight.sum() - 1)\n",
    "\n",
    "main['500m내_대여소가중치'] = weight_sum"
   ]
  },
  {
   "cell_type": "code",
   "execution_count": 4,
   "id": "b0984435-31fb-44cf-a087-fb21c628cc80",
   "metadata": {},
   "outputs": [],
   "source": [
    "bus = pd.read_csv('bus_stop_location.csv', encoding='cp949')\n",
    "\n",
    "bus_coord = np.deg2rad(bus[['X좌표', 'Y좌표']].values)\n",
    "tree = BallTree(bus_coord, metric='haversine')\n",
    "main_coord = np.deg2rad(main[['경도', '위도']].values)\n",
    "\n",
    "radius = 500 / 6371000\n",
    "weight_sum = []\n",
    "\n",
    "for point in main_coord:\n",
    "    ind, dist = tree.query_radius([point], r=radius, return_distance=True)\n",
    "    nearby_dist = dist[0] * 6371000\n",
    "    weight = 1 - (nearby_dist / 500)\n",
    "    weight_sum.append(weight.sum())\n",
    "\n",
    "main['500m내_버스정류소가중치'] = weight_sum"
   ]
  },
  {
   "cell_type": "code",
   "execution_count": 5,
   "id": "29913aee-5b82-486b-bb77-feab4a6e8bd0",
   "metadata": {},
   "outputs": [],
   "source": [
    "subway = pd.read_csv('subway_station_location.csv', encoding='cp949')\n",
    "\n",
    "subway_coord = np.deg2rad(subway[['경도', '위도']].values)\n",
    "tree = BallTree(subway_coord, metric='haversine')\n",
    "main_coord = np.deg2rad(main[['경도', '위도']].values)\n",
    "\n",
    "radius = 500 / 6371000\n",
    "weight_sum = []\n",
    "\n",
    "for point in main_coord:\n",
    "    ind, dist = tree.query_radius([point], r=radius, return_distance=True)\n",
    "    nearby_dist = dist[0] * 6371000\n",
    "    weight = 1 - (nearby_dist / 500)\n",
    "    weight_sum.append(weight.sum())\n",
    "\n",
    "main['500m내_지하철역가중치'] = weight_sum"
   ]
  },
  {
   "cell_type": "code",
   "execution_count": 6,
   "id": "204c50cd-3d1d-405f-87cf-6e41eef65bd4",
   "metadata": {},
   "outputs": [],
   "source": [
    "bike_accident = pd.read_csv('bike_accident_data.csv', encoding='cp949')\n",
    "\n",
    "subway_coord = np.deg2rad(bike_accident[['경도', '위도']].values)\n",
    "tree = BallTree(subway_coord, metric='haversine')\n",
    "main_coord = np.deg2rad(main[['경도', '위도']].values)\n",
    "\n",
    "radius = 500 / 6371000\n",
    "weight_sum = []\n",
    "accident_values = bike_accident['사고건수'].values\n",
    "\n",
    "for point in main_coord:\n",
    "    ind, dist = tree.query_radius([point], r=radius, return_distance=True)\n",
    "    ind = ind[0]\n",
    "    nearby_dist = dist[0] * 6371000\n",
    "    weight = (1 - (nearby_dist / 500)) * accident_values[ind]\n",
    "    weight_sum.append(weight.sum())\n",
    "\n",
    "main['500m내_사고건수_가중치'] = weight_sum"
   ]
  },
  {
   "cell_type": "code",
   "execution_count": 7,
   "id": "7e751756",
   "metadata": {},
   "outputs": [],
   "source": [
    "parking = pd.read_csv('bike_shed_location.csv', encoding='cp949')\n",
    "\n",
    "parkingCoord = np.deg2rad(parking[['y 좌표', 'x 좌표']].values)\n",
    "tree = BallTree(parkingCoord, metric='haversine')\n",
    "mainCoord = np.deg2rad(main[['위도', '경도']].values)\n",
    "\n",
    "radius = 500 / 6371000\n",
    "weightSum = []\n",
    "\n",
    "for point in mainCoord:\n",
    "    ind, dist = tree.query_radius([point], r=radius, return_distance=True)\n",
    "    nearbyDist = dist[0] * 6371000\n",
    "    weight = 1 - (nearbyDist / 500)\n",
    "    weightSum.append(weight.sum())\n",
    "\n",
    "main['500m내_자전거보관소가중치'] = weightSum"
   ]
  },
  {
   "cell_type": "code",
   "execution_count": 8,
   "id": "90b21bcd",
   "metadata": {},
   "outputs": [],
   "source": [
    "crossroad = pd.read_csv('crossroad_data.csv', encoding='cp949')\n",
    "\n",
    "crossroad = crossroad.dropna(subset=['X좌표', 'Y좌표'])\n",
    "\n",
    "# 3. 좌표계 변환: EPSG:5186 → EPSG:4326\n",
    "transformer = Transformer.from_crs(\"EPSG:5186\", \"EPSG:4326\", always_xy=True)\n",
    "\n",
    "경도, 위도 = transformer.transform(crossroad['X좌표'].values, crossroad['Y좌표'].values)\n",
    "crossroad['경도'] = 경도\n",
    "crossroad['위도'] = 위도\n",
    "\n",
    "crossroad_coord = np.deg2rad(crossroad[['위도', '경도']].values)\n",
    "tree = BallTree(crossroad_coord, metric='haversine')\n",
    "main_coord = np.deg2rad(main[['위도', '경도']].values)\n",
    "\n",
    "radius = 500 / 6371000\n",
    "weight_sum = []\n",
    "\n",
    "for point in main_coord:\n",
    "    ind, dist = tree.query_radius([point], r=radius, return_distance=True)\n",
    "    nearby_dist = dist[0] * 6371000\n",
    "    weight = 1 - (nearby_dist / 500)\n",
    "    weight_sum.append(weight.sum())\n",
    "\n",
    "main['500m내_교차로가중치'] = weight_sum"
   ]
  },
  {
   "cell_type": "code",
   "execution_count": 9,
   "id": "09513710",
   "metadata": {},
   "outputs": [],
   "source": [
    "bikelane = pd.read_csv(\"bike_lane_data.csv\", encoding='cp949')\n",
    "bikelane = bikelane.dropna(subset=['위도', '경도'])\n",
    "\n",
    "bikelane_coord = np.deg2rad(bikelane[['위도', '경도']].values)\n",
    "tree = BallTree(bikelane_coord, metric='haversine')\n",
    "main_coord = np.deg2rad(main[['위도', '경도']].values)\n",
    "\n",
    "radius = 500 / 6371000\n",
    "weight_sum = []\n",
    "\n",
    "for point in main_coord:\n",
    "    ind, dist = tree.query_radius([point], r=radius, return_distance=True)\n",
    "    nearby_dist = dist[0] * 6371000\n",
    "    weight = 1 - (nearby_dist / 500)\n",
    "    weight_sum.append(weight.sum())\n",
    "\n",
    "main['500m내_자전거도로가중치'] = weight_sum"
   ]
  },
  {
   "cell_type": "code",
   "execution_count": 10,
   "id": "15f15c8c",
   "metadata": {},
   "outputs": [],
   "source": [
    "# 1. 데이터 불러오기\n",
    "spots = pd.read_csv('tourist_attraction_location.csv', encoding='utf-8-sig')  \n",
    "\n",
    "# 2. NaN 있는 관광지 제거\n",
    "spots_clean = spots.dropna(subset=['위도', '경도'])\n",
    "\n",
    "# 3. 위경도 → 라디안 변환\n",
    "main_coords = np.deg2rad(main[['위도', '경도']].values)\n",
    "spot_coords = np.deg2rad(spots_clean[['위도', '경도']].values)\n",
    "\n",
    "# 4. BallTree 생성\n",
    "tree = BallTree(spot_coords, metric='haversine')\n",
    "\n",
    "# 5. 500m 반경 계산 (라디안 단위)\n",
    "radius = 500 / 6371000  # 지구 반지름: 6371km\n",
    "\n",
    "# 6. 반경 내 관광지 개수 → 0보다 크면 1\n",
    "counts = tree.query_radius(main_coords, r=radius, count_only=True)\n",
    "main['500m내_관광지_여부'] = (counts > 0).astype(int)"
   ]
  },
  {
   "cell_type": "code",
   "execution_count": 11,
   "id": "260de62e",
   "metadata": {},
   "outputs": [],
   "source": [
    "dong = pd.read_csv('dong_data.csv', encoding='utf-8-sig')\n",
    "\n",
    "main = main.merge(dong[['대여소_ID', '동']], on='대여소_ID', how='left')"
   ]
  },
  {
   "cell_type": "code",
   "execution_count": 12,
   "id": "864ebe63",
   "metadata": {},
   "outputs": [],
   "source": [
    "diner = pd.read_csv('diner_location_data.csv', encoding='utf-8-sig')\n",
    "diner = diner.dropna(subset=['위도', '경도'])"
   ]
  },
  {
   "cell_type": "code",
   "execution_count": 13,
   "id": "832acb96",
   "metadata": {},
   "outputs": [],
   "source": [
    "diner_coord = np.deg2rad(diner[['경도', '위도']].values)\n",
    "tree = BallTree(diner_coord, metric='haversine')\n",
    "main_coord = np.deg2rad(main[['경도', '위도']].values)\n",
    "\n",
    "radius = 500 / 6371000\n",
    "weight_sum = []\n",
    "\n",
    "for point in main_coord:\n",
    "    ind, dist = tree.query_radius([point], r=radius, return_distance=True)\n",
    "    nearby_dist = dist[0] * 6371000\n",
    "    weight = 1 - (nearby_dist / 500)\n",
    "    weight_sum.append(weight.sum() - 1)\n",
    "\n",
    "main['500m내_휴게음식점가중치'] = weight_sum"
   ]
  },
  {
   "cell_type": "code",
   "execution_count": 14,
   "id": "c00a2e31",
   "metadata": {},
   "outputs": [],
   "source": [
    "highschool = pd.read_csv('high_school_data.csv', encoding='cp949')\n",
    "highschool = highschool.dropna(subset=['위도', '경도'])\n",
    "\n",
    "highschool_coord = np.deg2rad(highschool[['위도', '경도']].values)\n",
    "tree = BallTree(highschool_coord, metric='haversine')\n",
    "main_coord = np.deg2rad(main[['위도', '경도']].values)\n",
    "\n",
    "radius = 500 / 6371000\n",
    "weight_sum = []\n",
    "\n",
    "for point in main_coord:\n",
    "    ind, dist = tree.query_radius([point], r=radius, return_distance=True)\n",
    "    nearby_dist = dist[0] * 6371000\n",
    "    weight = 1 - (nearby_dist / 500)\n",
    "    weight_sum.append(weight.sum())\n",
    "\n",
    "main['500m내_고등학교가중치'] = weight_sum"
   ]
  },
  {
   "cell_type": "code",
   "execution_count": 15,
   "id": "6a288961",
   "metadata": {},
   "outputs": [],
   "source": [
    "college = pd.read_csv('college_data.csv', encoding='cp949')\n",
    "college = college.dropna(subset=['위도', '경도'])\n",
    "\n",
    "college_coord = np.deg2rad(college[['위도', '경도']].values)\n",
    "tree = BallTree(college_coord, metric='haversine')\n",
    "main_coord = np.deg2rad(main[['위도', '경도']].values)\n",
    "\n",
    "radius = 500 / 6371000\n",
    "weight_sum = []\n",
    "\n",
    "for point in main_coord:\n",
    "    ind, dist = tree.query_radius([point], r=radius, return_distance=True)\n",
    "    nearby_dist = dist[0] * 6371000\n",
    "    weight = 1 - (nearby_dist / 500)\n",
    "    weight_sum.append(weight.sum())\n",
    "\n",
    "main['500m내_대학교가중치'] = weight_sum"
   ]
  },
  {
   "cell_type": "code",
   "execution_count": 16,
   "id": "d2aa0804",
   "metadata": {},
   "outputs": [],
   "source": [
    "main['구'] = main['주소1'].str.extract(r'(\\S+구)')\n",
    "main = main.drop(columns=['주소1'])"
   ]
  },
  {
   "cell_type": "code",
   "execution_count": 17,
   "id": "93288b04",
   "metadata": {},
   "outputs": [],
   "source": [
    "main.to_csv('data_preprocessing_file.csv', index=False, encoding='cp949')"
   ]
  }
 ],
 "metadata": {
  "kernelspec": {
   "display_name": "tfenv",
   "language": "python",
   "name": "python3"
  },
  "language_info": {
   "codemirror_mode": {
    "name": "ipython",
    "version": 3
   },
   "file_extension": ".py",
   "mimetype": "text/x-python",
   "name": "python",
   "nbconvert_exporter": "python",
   "pygments_lexer": "ipython3",
   "version": "3.10.16"
  }
 },
 "nbformat": 4,
 "nbformat_minor": 5
}
