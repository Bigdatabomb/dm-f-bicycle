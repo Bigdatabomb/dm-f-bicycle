{
 "cells": [
  {
   "cell_type": "code",
   "execution_count": 1,
   "id": "72bd8a56",
   "metadata": {},
   "outputs": [],
   "source": [
    "import pandas as pd\n",
    "\n",
    "main = pd.read_csv('bike_rental_master.csv', encoding='cp949')"
   ]
  },
  {
   "cell_type": "code",
   "execution_count": 2,
   "id": "68e38ba0",
   "metadata": {},
   "outputs": [],
   "source": [
    "main['구'] = main['주소1'].str.extract(r'(\\S+구)')"
   ]
  },
  {
   "cell_type": "code",
   "execution_count": 3,
   "id": "103ac7b4",
   "metadata": {},
   "outputs": [],
   "source": [
    "main.to_csv('main.csv', index=False, encoding='cp949')"
   ]
  }
 ],
 "metadata": {
  "kernelspec": {
   "display_name": "base",
   "language": "python",
   "name": "python3"
  },
  "language_info": {
   "codemirror_mode": {
    "name": "ipython",
    "version": 3
   },
   "file_extension": ".py",
   "mimetype": "text/x-python",
   "name": "python",
   "nbconvert_exporter": "python",
   "pygments_lexer": "ipython3",
   "version": "3.9.13"
  }
 },
 "nbformat": 4,
 "nbformat_minor": 5
}
