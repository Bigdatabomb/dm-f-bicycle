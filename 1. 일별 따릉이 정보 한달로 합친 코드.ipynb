{
 "cells": [
  {
   "cell_type": "markdown",
   "id": "365b67c2",
   "metadata": {},
   "source": [
    "코드 맨 첫번째\n",
    "1. 일별로 되어있는 따릉이 대여 반납 정보를 월별 단위로 합침"
   ]
  },
  {
   "cell_type": "code",
   "execution_count": null,
   "id": "6101bb75-7114-42e8-a8b7-3d6b88e7604e",
   "metadata": {},
   "outputs": [],
   "source": [
    "import pandas as pd\n",
    "import glob\n",
    "\n",
    "# 1월 따릉이 대여 반납 정보 CSV 파일 경로 가져오기\n",
    "files = glob.glob(\"tpss_bcycl_od_statnhm_202401*.csv\")\n",
    "\n",
    "# 출발시간 열만 담을 리스트 생성\n",
    "dfs = []\n",
    "for file in files:\n",
    "    df = pd.read_csv(file, encoding='cp949')\n",
    "    startTime = df[df['집계_기준'] == '출발시간']\n",
    "    dfs.append(startTime)\n",
    "\n",
    "# 1일부터 31일 파일 하나로 합치기\n",
    "result = pd.concat(dfs, ignore_index=True)\n",
    "\n",
    "result.to_csv(\"1월 따릉이 출발시간.csv\", index=False, encoding='cp949')"
   ]
  },
  {
   "cell_type": "code",
   "execution_count": null,
   "id": "51473f37",
   "metadata": {},
   "outputs": [],
   "source": [
    "# 2월 따릉이 대여 반납 정보 CSV 파일 경로 가져오기\n",
    "files = glob.glob(\"tpss_bcycl_od_statnhm_202402*.csv\")\n",
    "\n",
    "# 출발시간 열만 담을 리스트 생성\n",
    "dfs = []\n",
    "for file in files:\n",
    "    df = pd.read_csv(file, encoding='cp949')\n",
    "    startTime = df[df['집계_기준'] == '출발시간']\n",
    "    dfs.append(startTime)\n",
    "\n",
    "# 1일부터 31일 파일 하나로 합치기\n",
    "result = pd.concat(dfs, ignore_index=True)\n",
    "\n",
    "result.to_csv(\"2월 따릉이 출발시간.csv\", index=False, encoding='cp949')"
   ]
  },
  {
   "cell_type": "code",
   "execution_count": null,
   "id": "3d7a4125",
   "metadata": {},
   "outputs": [],
   "source": [
    "# 3월 따릉이 대여 반납 정보 CSV 파일 경로 가져오기\n",
    "files = glob.glob(\"tpss_bcycl_od_statnhm_202403*.csv\")\n",
    "\n",
    "# 출발시간 열만 담을 리스트 생성\n",
    "dfs = []\n",
    "for file in files:\n",
    "    df = pd.read_csv(file, encoding='cp949')\n",
    "    startTime = df[df['집계_기준'] == '출발시간']\n",
    "    dfs.append(startTime)\n",
    "\n",
    "# 1일부터 31일 파일 하나로 합치기\n",
    "result = pd.concat(dfs, ignore_index=True)\n",
    "\n",
    "result.to_csv(\"3월 따릉이 출발시간.csv\", index=False, encoding='cp949')"
   ]
  },
  {
   "cell_type": "code",
   "execution_count": null,
   "id": "18523d57",
   "metadata": {},
   "outputs": [],
   "source": [
    "# 4월 따릉이 대여 반납 정보 CSV 파일 경로 가져오기\n",
    "files = glob.glob(\"tpss_bcycl_od_statnhm_202404*.csv\")\n",
    "\n",
    "# 출발시간 열만 담을 리스트 생성\n",
    "dfs = []\n",
    "for file in files:\n",
    "    df = pd.read_csv(file, encoding='cp949')\n",
    "    startTime = df[df['집계_기준'] == '출발시간']\n",
    "    dfs.append(startTime)\n",
    "\n",
    "# 1일부터 31일 파일 하나로 합치기\n",
    "result = pd.concat(dfs, ignore_index=True)\n",
    "\n",
    "result.to_csv(\"4월 따릉이 출발시간.csv\", index=False, encoding='cp949')"
   ]
  },
  {
   "cell_type": "code",
   "execution_count": null,
   "id": "76ffd0c5",
   "metadata": {},
   "outputs": [],
   "source": [
    "# 5월 따릉이 대여 반납 정보 CSV 파일 경로 가져오기\n",
    "files = glob.glob(\"tpss_bcycl_od_statnhm_202405*.csv\")\n",
    "\n",
    "# 출발시간 열만 담을 리스트 생성\n",
    "dfs = []\n",
    "for file in files:\n",
    "    df = pd.read_csv(file, encoding='cp949')\n",
    "    startTime = df[df['집계_기준'] == '출발시간']\n",
    "    dfs.append(startTime)\n",
    "\n",
    "# 1일부터 31일 파일 하나로 합치기\n",
    "result = pd.concat(dfs, ignore_index=True)\n",
    "\n",
    "result.to_csv(\"5월 따릉이 출발시간.csv\", index=False, encoding='cp949')"
   ]
  },
  {
   "cell_type": "code",
   "execution_count": null,
   "id": "4589475d",
   "metadata": {},
   "outputs": [],
   "source": [
    "# 6월 따릉이 대여 반납 정보 CSV 파일 경로 가져오기\n",
    "files = glob.glob(\"tpss_bcycl_od_statnhm_202406*.csv\")\n",
    "\n",
    "# 출발시간 열만 담을 리스트 생성\n",
    "dfs = []\n",
    "for file in files:\n",
    "    df = pd.read_csv(file, encoding='cp949')\n",
    "    startTime = df[df['집계_기준'] == '출발시간']\n",
    "    dfs.append(startTime)\n",
    "\n",
    "# 1일부터 31일 파일 하나로 합치기\n",
    "result = pd.concat(dfs, ignore_index=True)\n",
    "\n",
    "result.to_csv(\"6월 따릉이 출발시간.csv\", index=False, encoding='cp949')"
   ]
  },
  {
   "cell_type": "code",
   "execution_count": null,
   "id": "c7294d83",
   "metadata": {},
   "outputs": [],
   "source": [
    "# 7월 따릉이 대여 반납 정보 CSV 파일 경로 가져오기\n",
    "files = glob.glob(\"tpss_bcycl_od_statnhm_202407*.csv\")\n",
    "\n",
    "# 출발시간 열만 담을 리스트 생성\n",
    "dfs = []\n",
    "for file in files:\n",
    "    df = pd.read_csv(file, encoding='cp949')\n",
    "    startTime = df[df['집계_기준'] == '출발시간']\n",
    "    dfs.append(startTime)\n",
    "\n",
    "# 1일부터 31일 파일 하나로 합치기\n",
    "result = pd.concat(dfs, ignore_index=True)\n",
    "\n",
    "result.to_csv(\"7월 따릉이 출발시간.csv\", index=False, encoding='cp949')"
   ]
  },
  {
   "cell_type": "code",
   "execution_count": null,
   "id": "63ebd76a",
   "metadata": {},
   "outputs": [],
   "source": [
    "# 8월 따릉이 대여 반납 정보 CSV 파일 경로 가져오기\n",
    "files = glob.glob(\"tpss_bcycl_od_statnhm_202408*.csv\")\n",
    "\n",
    "# 출발시간 열만 담을 리스트 생성\n",
    "dfs = []\n",
    "for file in files:\n",
    "    df = pd.read_csv(file, encoding='cp949')\n",
    "    startTime = df[df['집계_기준'] == '출발시간']\n",
    "    dfs.append(startTime)\n",
    "\n",
    "# 1일부터 31일 파일 하나로 합치기\n",
    "result = pd.concat(dfs, ignore_index=True)\n",
    "\n",
    "result.to_csv(\"8월 따릉이 출발시간.csv\", index=False, encoding='cp949')"
   ]
  },
  {
   "cell_type": "code",
   "execution_count": null,
   "id": "ab746b38",
   "metadata": {},
   "outputs": [],
   "source": [
    "# 9월 따릉이 대여 반납 정보 CSV 파일 경로 가져오기\n",
    "files = glob.glob(\"tpss_bcycl_od_statnhm_202409*.csv\")\n",
    "\n",
    "# 출발시간 열만 담을 리스트 생성\n",
    "dfs = []\n",
    "for file in files:\n",
    "    df = pd.read_csv(file, encoding='cp949')\n",
    "    startTime = df[df['집계_기준'] == '출발시간']\n",
    "    dfs.append(startTime)\n",
    "\n",
    "# 1일부터 31일 파일 하나로 합치기\n",
    "result = pd.concat(dfs, ignore_index=True)\n",
    "\n",
    "result.to_csv(\"9월 따릉이 출발시간.csv\", index=False, encoding='cp949')"
   ]
  },
  {
   "cell_type": "code",
   "execution_count": null,
   "id": "1076ad68",
   "metadata": {},
   "outputs": [],
   "source": [
    "# 10월 따릉이 대여 반납 정보 CSV 파일 경로 가져오기\n",
    "files = glob.glob(\"tpss_bcycl_od_statnhm_202410*.csv\")\n",
    "\n",
    "# 출발시간 열만 담을 리스트 생성\n",
    "dfs = []\n",
    "for file in files:\n",
    "    df = pd.read_csv(file, encoding='cp949')\n",
    "    startTime = df[df['집계_기준'] == '출발시간']\n",
    "    dfs.append(startTime)\n",
    "\n",
    "# 1일부터 31일 파일 하나로 합치기\n",
    "result = pd.concat(dfs, ignore_index=True)\n",
    "\n",
    "result.to_csv(\"10월 따릉이 출발시간.csv\", index=False, encoding='cp949')"
   ]
  },
  {
   "cell_type": "code",
   "execution_count": null,
   "id": "6a52783e",
   "metadata": {},
   "outputs": [],
   "source": [
    "# 11월 따릉이 대여 반납 정보 CSV 파일 경로 가져오기\n",
    "files = glob.glob(\"tpss_bcycl_od_statnhm_202411*.csv\")\n",
    "\n",
    "# 출발시간 열만 담을 리스트 생성\n",
    "dfs = []\n",
    "for file in files:\n",
    "    df = pd.read_csv(file, encoding='cp949')\n",
    "    startTime = df[df['집계_기준'] == '출발시간']\n",
    "    dfs.append(startTime)\n",
    "\n",
    "# 1일부터 31일 파일 하나로 합치기\n",
    "result = pd.concat(dfs, ignore_index=True)\n",
    "\n",
    "result.to_csv(\"11월 따릉이 출발시간.csv\", index=False, encoding='cp949')"
   ]
  },
  {
   "cell_type": "code",
   "execution_count": null,
   "id": "b631cca6",
   "metadata": {},
   "outputs": [],
   "source": [
    "# 12월 따릉이 대여 반납 정보 CSV 파일 경로 가져오기\n",
    "files = glob.glob(\"tpss_bcycl_od_statnhm_202412*.csv\")\n",
    "\n",
    "# 출발시간 열만 담을 리스트 생성\n",
    "dfs = []\n",
    "for file in files:\n",
    "    df = pd.read_csv(file, encoding='cp949')\n",
    "    startTime = df[df['집계_기준'] == '출발시간']\n",
    "    dfs.append(startTime)\n",
    "\n",
    "# 1일부터 31일 파일 하나로 합치기\n",
    "result = pd.concat(dfs, ignore_index=True)\n",
    "\n",
    "result.to_csv(\"12월 따릉이 출발시간.csv\", index=False, encoding='cp949')"
   ]
  }
 ],
 "metadata": {
  "kernelspec": {
   "display_name": "base",
   "language": "python",
   "name": "python3"
  },
  "language_info": {
   "codemirror_mode": {
    "name": "ipython",
    "version": 3
   },
   "file_extension": ".py",
   "mimetype": "text/x-python",
   "name": "python",
   "nbconvert_exporter": "python",
   "pygments_lexer": "ipython3",
   "version": "3.12.4"
  }
 },
 "nbformat": 4,
 "nbformat_minor": 5
}
